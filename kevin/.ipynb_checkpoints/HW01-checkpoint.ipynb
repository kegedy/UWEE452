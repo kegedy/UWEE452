{
 "cells": [
  {
   "cell_type": "markdown",
   "id": "false-idaho",
   "metadata": {},
   "source": [
    "# EE 452 – Power Electronics Design\n",
    "## Homework 1\n",
    "Due Date: Monday October 11th 2021, 11:59pm"
   ]
  },
  {
   "cell_type": "markdown",
   "id": "cheap-lucas",
   "metadata": {},
   "source": [
    "**Instructions.** You must scan your completed homework assignment into a pdf file, and\n",
    "upload your file to the Canvas Assignment HW#1 page by the due date/time above. All\n",
    "pages must be gathered into a single file of moderate size, with the pages in the correct\n",
    "order. Set your phone or scanner for basic black and white scanning. You should obtain a\n",
    "file size of hundreds of kB, rather than tens of MB. I recommend using the ”Tiny Scanner”\n",
    "app. Please note that the grader will not be obligated to grade your assignment if the file\n",
    "is unreadable or very large."
   ]
  },
  {
   "cell_type": "markdown",
   "id": "mineral-retailer",
   "metadata": {},
   "source": [
    "**Problem 1.** Analysis and design of a buck-boost converter: A buck-boost converter is\n",
    "illustrated in Fig. 1(a), and a practical implementation using a transistor and diode is\n",
    "shown in Fig. 1(b)."
   ]
  },
  {
   "cell_type": "code",
   "execution_count": null,
   "id": "respiratory-slovakia",
   "metadata": {},
   "outputs": [],
   "source": []
  }
 ],
 "metadata": {
  "kernelspec": {
   "display_name": "Python 3",
   "language": "python",
   "name": "python3"
  },
  "language_info": {
   "codemirror_mode": {
    "name": "ipython",
    "version": 3
   },
   "file_extension": ".py",
   "mimetype": "text/x-python",
   "name": "python",
   "nbconvert_exporter": "python",
   "pygments_lexer": "ipython3",
   "version": "3.7.9"
  },
  "varInspector": {
   "cols": {
    "lenName": 16,
    "lenType": 16,
    "lenVar": 40
   },
   "kernels_config": {
    "python": {
     "delete_cmd_postfix": "",
     "delete_cmd_prefix": "del ",
     "library": "var_list.py",
     "varRefreshCmd": "print(var_dic_list())"
    },
    "r": {
     "delete_cmd_postfix": ") ",
     "delete_cmd_prefix": "rm(",
     "library": "var_list.r",
     "varRefreshCmd": "cat(var_dic_list()) "
    }
   },
   "types_to_exclude": [
    "module",
    "function",
    "builtin_function_or_method",
    "instance",
    "_Feature"
   ],
   "window_display": false
  }
 },
 "nbformat": 4,
 "nbformat_minor": 5
}
