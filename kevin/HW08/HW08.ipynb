{
 "cells": [
  {
   "cell_type": "code",
   "execution_count": 1,
   "id": "robust-biodiversity",
   "metadata": {},
   "outputs": [],
   "source": [
    "# Imports\n",
    "import os\n",
    "import sys\n",
    "import cmath\n",
    "import math\n",
    "import matplotlib.pyplot as plt\n",
    "import matplotlib\n",
    "import numpy as np\n",
    "import pandas as pd\n",
    "import sympy as sp\n",
    "from sympy.utilities.lambdify import lambdify\n",
    "from scipy import signal\n",
    "%matplotlib inline\n",
    "from IPython.core.interactiveshell import InteractiveShell\n",
    "InteractiveShell.ast_node_interactivity = \"all\"\n",
    "from matplotlib.ticker import LogLocator"
   ]
  },
  {
   "cell_type": "markdown",
   "id": "atomic-mobility",
   "metadata": {},
   "source": [
    "**Golden Rules**"
   ]
  },
  {
   "cell_type": "markdown",
   "id": "faced-excellence",
   "metadata": {},
   "source": [
    "$\\begin{eqnarray}\n",
    "\\frac{v_1}{n_1} &=& \\frac{v_2}{n_2} \\\\[0.5em]\n",
    "i_1' n_1 &+& i_2 n_2 = 0 \\\\[0.5em]\n",
    "\\end{eqnarray}$\n",
    "\n",
    "<hr>"
   ]
  },
  {
   "cell_type": "markdown",
   "id": "photographic-proposal",
   "metadata": {},
   "source": [
    "**Switch: [Q1 on, Diode off]**\n",
    "\n",
    "*Charge Balance*\n",
    "\n",
    "$\\begin{eqnarray}\n",
    "i_g &=& i_m \\\\[0.5em]\n",
    "i_C &=& \\frac{-V}{R} \\\\[0.5em]\n",
    "\\end{eqnarray}$\n",
    "\n",
    "<hr>\n",
    "\n",
    "*Volt Seconds*\n",
    "\n",
    "$\\begin{eqnarray}\n",
    " \\text{Diode off:}&&  i_2=0 \\\\[0.5em]\n",
    "i'_1 = i_2 &=& 0 \\\\[0.5em]\n",
    "v_m = v_1 &=& \\frac{v_2}{n} \\\\[0.5em]\n",
    "v_1 &=& V_g -i_g R_p - i_g R_{on} \\\\[0.5em]\n",
    " &=& V_g -i_m R_p - i_m R_{on} \\\\[0.5em]\n",
    "\\end{eqnarray}$\n",
    "\n",
    "<hr>"
   ]
  },
  {
   "cell_type": "markdown",
   "id": "divided-jaguar",
   "metadata": {},
   "source": [
    "**Q1 off, Diode on**\n",
    "\n",
    "*Charge Balance*\n",
    "\n",
    "$\\begin{eqnarray}\n",
    " \\text{Q1 off:}&&  i_g=0 \\\\[0.5em]\n",
    " i'_1 &=& -i_m \\\\[0.5em]\n",
    " i_2 &=& -\\frac{i_1}{n_1 n_2} = \\frac{i_m}{n}\\\\[0.5em]\n",
    " i_c &=& i_2 - \\frac{V}{R} = \\frac{i_m}{n} - \\frac{V}{R} \n",
    "\\end{eqnarray}$\n",
    "\n",
    "<hr>\n",
    "\n",
    "*Volt Seconds*\n",
    "\n",
    "$\\begin{eqnarray}\n",
    "v_m &=& v_1  \\\\[0.5em]\n",
    "v_1 &=& \\frac{v_2}{n} \\\\[0.5em]\n",
    "v_2 &=& -(V + V_D + i_2 R_s) \\\\[0.5em]\n",
    "&=& -(V + V_D + R_s \\frac{i_m}{n}) \\\\[0.5em]\n",
    "\\end{eqnarray}$\n",
    "\n",
    "<hr>"
   ]
  },
  {
   "cell_type": "markdown",
   "id": "respective-geography",
   "metadata": {},
   "source": [
    "**Volt Seconds**\n",
    "\n",
    "$\\begin{eqnarray}\n",
    "<v_M> &=& \\int_{o}^{T_S} v_M(t) dt \\\\[0.5em]\n",
    "0 &=& D \\cdot (V_g -I_M R_p - I_M R_{on} ) + D'\\cdot \\left(-\\frac{1}{n}(V + V_D + R_s \\frac{I_M}{n})\\right) \\\\[0.5em]\n",
    "0 &=& D V_g - D I_M (R_p + R_{on}) - D'\\frac{V}{n} - D'\\frac{V_D}{n} - D'\\frac{I_M R_s}{n^2}\n",
    "\\end{eqnarray}$\n",
    "\n",
    "<hr>"
   ]
  },
  {
   "cell_type": "markdown",
   "id": "protecting-workstation",
   "metadata": {},
   "source": [
    "**Charge Balance**\n",
    "\n",
    "$\\begin{eqnarray}\n",
    "<i_C> &=& \\int_{o}^{T_S} i_C(t) dt \\\\[0.5em]\n",
    "0 &=& D \\cdot (-\\frac{V}{R}) + D'\\cdot (\\frac{I_M}{n} - \\frac{V}{R}) \\\\[0.5em]\n",
    "0 &=& - \\frac{V}{R} + D' \\frac{I_M}{n}\n",
    "\\end{eqnarray}$\n",
    "\n",
    "<hr>\n",
    "\n",
    "$\\begin{eqnarray}\n",
    "<i_G> &=& \\int_{o}^{T_S} i_g(t) dt \\\\[0.5em]\n",
    "<i_G> &=& D \\cdot (I_M) + D'\\cdot (0) \\\\[0.5em]\n",
    "<i_G> &=& D I_M\n",
    "\\end{eqnarray}$"
   ]
  },
  {
   "cell_type": "markdown",
   "id": "overall-budapest",
   "metadata": {},
   "source": [
    "**Efficiency**"
   ]
  },
  {
   "cell_type": "markdown",
   "id": "promotional-headset",
   "metadata": {},
   "source": [
    "$\\begin{eqnarray}\n",
    "\\eta &=& \\frac{P_{out}}{P_{in}} \\\\[0.5em]\n",
    "\\eta &=& \\frac{VI}{n V_g I\\frac{D}{D'}} \\\\[0.5em]\n",
    "&=& \\frac{V}{n V_g \\frac{D}{D'}} \\\\[0.5em]\n",
    "\\end{eqnarray}$"
   ]
  },
  {
   "cell_type": "code",
   "execution_count": null,
   "id": "stuck-heath",
   "metadata": {},
   "outputs": [],
   "source": []
  }
 ],
 "metadata": {
  "kernelspec": {
   "display_name": "Python 3",
   "language": "python",
   "name": "python3"
  },
  "language_info": {
   "codemirror_mode": {
    "name": "ipython",
    "version": 3
   },
   "file_extension": ".py",
   "mimetype": "text/x-python",
   "name": "python",
   "nbconvert_exporter": "python",
   "pygments_lexer": "ipython3",
   "version": "3.7.9"
  },
  "varInspector": {
   "cols": {
    "lenName": 16,
    "lenType": 16,
    "lenVar": 40
   },
   "kernels_config": {
    "python": {
     "delete_cmd_postfix": "",
     "delete_cmd_prefix": "del ",
     "library": "var_list.py",
     "varRefreshCmd": "print(var_dic_list())"
    },
    "r": {
     "delete_cmd_postfix": ") ",
     "delete_cmd_prefix": "rm(",
     "library": "var_list.r",
     "varRefreshCmd": "cat(var_dic_list()) "
    }
   },
   "types_to_exclude": [
    "module",
    "function",
    "builtin_function_or_method",
    "instance",
    "_Feature"
   ],
   "window_display": false
  }
 },
 "nbformat": 4,
 "nbformat_minor": 5
}
