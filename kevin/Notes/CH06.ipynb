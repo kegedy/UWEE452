{
 "cells": [
  {
   "cell_type": "markdown",
   "id": "blind-annual",
   "metadata": {},
   "source": [
    "<img src=\"img/CH06/CascadeConverters.png\" width=\"500\">"
   ]
  },
  {
   "cell_type": "markdown",
   "id": "consistent-saudi",
   "metadata": {},
   "source": [
    "$\\frac{V}{V_g} = M(D) = M_1(D) \\ M_2(D)$"
   ]
  },
  {
   "cell_type": "markdown",
   "id": "positive-handbook",
   "metadata": {},
   "source": [
    "**Converter Circuits** 8 Members of the basic class of single-input single-output converters containing a single inductor"
   ]
  },
  {
   "cell_type": "markdown",
   "id": "serious-wagon",
   "metadata": {},
   "source": [
    "<img src=\"img/CH06/ConverterCircuits_1.png\" width=\"500\">"
   ]
  },
  {
   "cell_type": "markdown",
   "id": "marked-macintosh",
   "metadata": {},
   "source": [
    "<img src=\"img/CH06/ConverterCircuits_2.png\" width=\"500\">"
   ]
  },
  {
   "cell_type": "markdown",
   "id": "educational-pacific",
   "metadata": {},
   "source": [
    "**Converter Circuits** 8 Members of the basic class of single-input single-output converters containing **two** inductors"
   ]
  },
  {
   "cell_type": "markdown",
   "id": "korean-criticism",
   "metadata": {},
   "source": [
    "<img src=\"img/CH06/ConverterCircuits_3.png\" width=\"500\">"
   ]
  },
  {
   "cell_type": "markdown",
   "id": "further-carpet",
   "metadata": {},
   "source": []
  }
 ],
 "metadata": {
  "kernelspec": {
   "display_name": "Python 3",
   "language": "python",
   "name": "python3"
  },
  "language_info": {
   "codemirror_mode": {
    "name": "ipython",
    "version": 3
   },
   "file_extension": ".py",
   "mimetype": "text/x-python",
   "name": "python",
   "nbconvert_exporter": "python",
   "pygments_lexer": "ipython3",
   "version": "3.7.9"
  },
  "varInspector": {
   "cols": {
    "lenName": 16,
    "lenType": 16,
    "lenVar": 40
   },
   "kernels_config": {
    "python": {
     "delete_cmd_postfix": "",
     "delete_cmd_prefix": "del ",
     "library": "var_list.py",
     "varRefreshCmd": "print(var_dic_list())"
    },
    "r": {
     "delete_cmd_postfix": ") ",
     "delete_cmd_prefix": "rm(",
     "library": "var_list.r",
     "varRefreshCmd": "cat(var_dic_list()) "
    }
   },
   "types_to_exclude": [
    "module",
    "function",
    "builtin_function_or_method",
    "instance",
    "_Feature"
   ],
   "window_display": false
  }
 },
 "nbformat": 4,
 "nbformat_minor": 5
}
