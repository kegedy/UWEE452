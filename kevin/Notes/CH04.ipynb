{
 "cells": [
  {
   "cell_type": "markdown",
   "id": "productive-induction",
   "metadata": {},
   "source": [
    "# Switch Realization"
   ]
  },
  {
   "cell_type": "markdown",
   "id": "strategic-weekend",
   "metadata": {},
   "source": [
    "### 4.1.1 Single Quadrant Switch"
   ]
  },
  {
   "cell_type": "markdown",
   "id": "structured-scoop",
   "metadata": {},
   "source": [
    "|  Diode\n",
    "|:-------------------------:\n",
    "| <img src=\"img/CH04/SingleQuadrantSwitch.png\" width=\"250\">\n",
    "\n",
    "<hr>"
   ]
  },
  {
   "cell_type": "markdown",
   "id": "brazilian-favor",
   "metadata": {},
   "source": [
    "<img src=\"img/CH04/BJT&MOSFET_Realization.png\" width=\"500\">\n",
    "\n",
    "<hr>"
   ]
  },
  {
   "cell_type": "markdown",
   "id": "professional-advantage",
   "metadata": {},
   "source": [
    "<img src=\"img/CH04/TwoQuadrantSPSTswitch.png\" width=\"550\"> \n",
    "\n",
    "<hr>"
   ]
  },
  {
   "cell_type": "markdown",
   "id": "controlling-tyler",
   "metadata": {},
   "source": [
    "**Fig. 4.2 Example**\n",
    "\n",
    "SPST switch A is **closed** & SPST switch B is **open**:\n",
    "\n",
    "$\\begin{eqnarray}\n",
    "i_A &=& i_L \\\\[0.25em]\n",
    "v_B &=& -V_g \\\\[0.25em]\n",
    "\\end{eqnarray}$\n",
    "\n",
    "SPST switch A is **open** & SPST switch B is **closed**:\n",
    "\n",
    "$\\begin{eqnarray}\n",
    "i_B &=& i_L \\\\[0.25em]\n",
    "v_A &=& V_g \\\\[0.25em]\n",
    "\\end{eqnarray}$"
   ]
  },
  {
   "cell_type": "markdown",
   "id": "distinct-domestic",
   "metadata": {},
   "source": [
    "|  SPST | Transistor Diode\n",
    "|:-------------------------:|:----------------------------------:|\n",
    "| <img src=\"img/CH04/BuckConverter_SPSTswitches.png\" width=\"450\"> | <img src=\"img/CH04/BuckConverter_TransistorDiode.png\" width=\"450\"> \n",
    "\n",
    "<hr>"
   ]
  },
  {
   "cell_type": "markdown",
   "id": "designed-water",
   "metadata": {},
   "source": [
    "<img src=\"img/CH04/Cuk_SwitchRealization.png\" width=\"400\"> \n",
    "\n",
    "<hr>"
   ]
  },
  {
   "cell_type": "markdown",
   "id": "alpine-gentleman",
   "metadata": {},
   "source": [
    "$\\begin{eqnarray}\n",
    "P_{sw} &=& \\frac{1}{T_s} \\int p_a(t)\\ dt = (W_{on} + W_{off})\\ f_{s} \\\\[0.5em]\n",
    "\\end{eqnarray}$\n",
    "\n",
    "<hr>"
   ]
  },
  {
   "cell_type": "markdown",
   "id": "emotional-poetry",
   "metadata": {},
   "source": [
    "$\\begin{eqnarray}\n",
    "\\eta &=& \\frac{P_{out}}{P_{in}} \\\\[0.5em]\n",
    "{P_{in}} &=& P_{out} + P_{loss} \\\\[0.5em]\n",
    "\\end{eqnarray}$\n",
    "\n",
    "<hr>"
   ]
  },
  {
   "cell_type": "markdown",
   "id": "developing-german",
   "metadata": {},
   "source": [
    "**IGBT Loss**\n",
    "\n",
    "<img src=\"img/CH04/IGBT_SwitchLoss.png\" width=\"500\"> \n",
    "\n",
    "<hr>"
   ]
  },
  {
   "cell_type": "markdown",
   "id": "confused-thickness",
   "metadata": {},
   "source": [
    "**Diode Loss**\n",
    "\n",
    "<img src=\"img/CH04/SwitchLoss_Diode.png\" width=\"450\"> \n"
   ]
  },
  {
   "cell_type": "markdown",
   "id": "understood-combine",
   "metadata": {},
   "source": [
    "<img src=\"img/CH04/TransistorWaveforms.png\" width=\"250\"> \n",
    "\n",
    "<hr>"
   ]
  },
  {
   "cell_type": "markdown",
   "id": "faced-representation",
   "metadata": {},
   "source": [
    "**Lessons:** MOSFETs with sufficiently low Ron reduce conduction loss. "
   ]
  },
  {
   "cell_type": "code",
   "execution_count": null,
   "id": "stupid-better",
   "metadata": {},
   "outputs": [],
   "source": [
    "\n",
    "\n"
   ]
  }
 ],
 "metadata": {
  "kernelspec": {
   "display_name": "Python 3",
   "language": "python",
   "name": "python3"
  },
  "language_info": {
   "codemirror_mode": {
    "name": "ipython",
    "version": 3
   },
   "file_extension": ".py",
   "mimetype": "text/x-python",
   "name": "python",
   "nbconvert_exporter": "python",
   "pygments_lexer": "ipython3",
   "version": "3.7.9"
  },
  "varInspector": {
   "cols": {
    "lenName": 16,
    "lenType": 16,
    "lenVar": 40
   },
   "kernels_config": {
    "python": {
     "delete_cmd_postfix": "",
     "delete_cmd_prefix": "del ",
     "library": "var_list.py",
     "varRefreshCmd": "print(var_dic_list())"
    },
    "r": {
     "delete_cmd_postfix": ") ",
     "delete_cmd_prefix": "rm(",
     "library": "var_list.r",
     "varRefreshCmd": "cat(var_dic_list()) "
    }
   },
   "types_to_exclude": [
    "module",
    "function",
    "builtin_function_or_method",
    "instance",
    "_Feature"
   ],
   "window_display": false
  }
 },
 "nbformat": 4,
 "nbformat_minor": 5
}
