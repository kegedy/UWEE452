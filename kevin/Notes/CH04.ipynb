{
 "cells": [
  {
   "cell_type": "markdown",
   "id": "casual-gnome",
   "metadata": {},
   "source": [
    "# Switch Realization"
   ]
  },
  {
   "cell_type": "markdown",
   "id": "employed-veteran",
   "metadata": {},
   "source": [
    "### 4.1.1 Single Quadrant Switch"
   ]
  },
  {
   "cell_type": "markdown",
   "id": "correct-petersburg",
   "metadata": {},
   "source": [
    "|  Diode\n",
    "|:-------------------------:\n",
    "| <img src=\"img/CH04/SingleQuadrantSwitch.png\" width=\"250\">\n",
    "\n",
    "<hr>"
   ]
  },
  {
   "cell_type": "markdown",
   "id": "legislative-number",
   "metadata": {},
   "source": [
    "<img src=\"img/CH04/BJT&MOSFET_Realization.png\" width=\"500\">\n",
    "\n",
    "<hr>"
   ]
  },
  {
   "cell_type": "markdown",
   "id": "involved-middle",
   "metadata": {},
   "source": [
    "**Fig. 4.2 Example**\n",
    "\n",
    "SPST switch A is **closed** & SPST switch B is **open**:\n",
    "\n",
    "$\\begin{eqnarray}\n",
    "i_A &=& i_L \\\\[0.25em]\n",
    "v_B &=& -V_g \\\\[0.25em]\n",
    "\\end{eqnarray}$\n",
    "\n",
    "SPST switch A is **open** & SPST switch B is **closed**:\n",
    "\n",
    "$\\begin{eqnarray}\n",
    "i_B &=& i_L \\\\[0.25em]\n",
    "v_A &=& V_g \\\\[0.25em]\n",
    "\\end{eqnarray}$"
   ]
  },
  {
   "cell_type": "markdown",
   "id": "every-rainbow",
   "metadata": {},
   "source": [
    "|  SPST | Transistor Diode\n",
    "|:-------------------------:|:----------------------------------:|\n",
    "| <img src=\"img/CH04/BuckConverter_SPSTswitches.png\" width=\"450\"> | <img src=\"img/CH04/BuckConverter_TransistorDiode.png\" width=\"450\"> \n",
    "\n",
    "<hr>"
   ]
  },
  {
   "cell_type": "markdown",
   "id": "stopped-pricing",
   "metadata": {},
   "source": [
    "<img src=\"img/CH04/TwoQuadrantSPSTswitch.png\" width=\"550\"> \n",
    "\n",
    "<hr>"
   ]
  },
  {
   "cell_type": "code",
   "execution_count": null,
   "id": "informational-projection",
   "metadata": {},
   "outputs": [],
   "source": []
  }
 ],
 "metadata": {
  "kernelspec": {
   "display_name": "Python 3",
   "language": "python",
   "name": "python3"
  },
  "language_info": {
   "codemirror_mode": {
    "name": "ipython",
    "version": 3
   },
   "file_extension": ".py",
   "mimetype": "text/x-python",
   "name": "python",
   "nbconvert_exporter": "python",
   "pygments_lexer": "ipython3",
   "version": "3.7.9"
  },
  "varInspector": {
   "cols": {
    "lenName": 16,
    "lenType": 16,
    "lenVar": 40
   },
   "kernels_config": {
    "python": {
     "delete_cmd_postfix": "",
     "delete_cmd_prefix": "del ",
     "library": "var_list.py",
     "varRefreshCmd": "print(var_dic_list())"
    },
    "r": {
     "delete_cmd_postfix": ") ",
     "delete_cmd_prefix": "rm(",
     "library": "var_list.r",
     "varRefreshCmd": "cat(var_dic_list()) "
    }
   },
   "types_to_exclude": [
    "module",
    "function",
    "builtin_function_or_method",
    "instance",
    "_Feature"
   ],
   "window_display": false
  }
 },
 "nbformat": 4,
 "nbformat_minor": 5
}
