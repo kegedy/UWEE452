{
 "cells": [
  {
   "cell_type": "markdown",
   "id": "wrapped-links",
   "metadata": {},
   "source": [
    "# Switch Realization"
   ]
  },
  {
   "cell_type": "markdown",
   "id": "historical-plant",
   "metadata": {},
   "source": [
    "**Single Quadrant Switch**"
   ]
  },
  {
   "cell_type": "markdown",
   "id": "pleasant-guard",
   "metadata": {},
   "source": [
    "|  Diode\n",
    "|:-------------------------:\n",
    "| <img src=\"img/CH04/SingleQuadrantSwitch.png\" width=\"250\">\n",
    "\n",
    "<hr>"
   ]
  },
  {
   "cell_type": "markdown",
   "id": "wanted-yield",
   "metadata": {},
   "source": [
    "<img src=\"img/CH04/BJT&MOSFET_Realization.png\" width=\"500\">\n",
    "\n",
    "<hr>"
   ]
  },
  {
   "cell_type": "markdown",
   "id": "broke-reality",
   "metadata": {},
   "source": [
    "<img src=\"img/CH04/TwoQuadrantSPSTswitch.png\" width=\"550\"> \n",
    "\n",
    "<hr>"
   ]
  },
  {
   "cell_type": "markdown",
   "id": "controlled-canal",
   "metadata": {},
   "source": [
    "**Fig. 4.2 Example**\n",
    "\n",
    "SPST switch A is **closed** & SPST switch B is **open**:\n",
    "\n",
    "$\\begin{eqnarray}\n",
    "i_A &=& i_L \\\\[0.25em]\n",
    "v_B &=& -V_g \\\\[0.25em]\n",
    "\\end{eqnarray}$\n",
    "\n",
    "SPST switch A is **open** & SPST switch B is **closed**:\n",
    "\n",
    "$\\begin{eqnarray}\n",
    "i_B &=& i_L \\\\[0.25em]\n",
    "v_A &=& V_g \\\\[0.25em]\n",
    "\\end{eqnarray}$"
   ]
  },
  {
   "cell_type": "markdown",
   "id": "separate-superintendent",
   "metadata": {},
   "source": [
    "**Buck Converter**\n",
    "\n",
    "<img src=\"img/CH04/BuckConverter_TransistorDiode.png\" width=\"400\"> \n",
    "\n",
    "<hr>"
   ]
  },
  {
   "cell_type": "markdown",
   "id": "mechanical-convenience",
   "metadata": {},
   "source": [
    "**Boost Converter**\n",
    "\n",
    "<img src=\"img/CH04/Boost_SwitchRealization.png\" width=\"425\"> \n",
    "\n",
    "<hr>"
   ]
  },
  {
   "cell_type": "markdown",
   "id": "specific-rates",
   "metadata": {},
   "source": [
    "**Buck-Boost Converter**\n",
    "\n",
    "<img src=\"img/CH04/BuckBoost_SwitchRealization.png\" width=\"425\"> \n",
    "\n",
    "<hr>"
   ]
  },
  {
   "cell_type": "markdown",
   "id": "wicked-nicaragua",
   "metadata": {},
   "source": [
    "**Cuk Converter**\n",
    "\n",
    "<img src=\"img/CH04/Cuk_SwitchRealization.png\" width=\"400\"> \n",
    "\n",
    "<hr>"
   ]
  },
  {
   "cell_type": "markdown",
   "id": "excessive-rapid",
   "metadata": {},
   "source": [
    "$\\begin{eqnarray}\n",
    "P_{sw} &=& \\frac{1}{T_s} \\int p_a(t)\\ dt = (W_{on} + W_{off})\\ f_{s} \\\\[0.5em]\n",
    "\\end{eqnarray}$\n",
    "\n",
    "<hr>"
   ]
  },
  {
   "cell_type": "markdown",
   "id": "brave-authentication",
   "metadata": {},
   "source": [
    "$\\begin{eqnarray}\n",
    "\\eta &=& \\frac{P_{out}}{P_{in}} \\\\[0.5em]\n",
    "{P_{in}} &=& P_{out} + P_{loss} \\\\[0.5em]\n",
    "\\end{eqnarray}$\n",
    "\n",
    "<hr>"
   ]
  },
  {
   "cell_type": "markdown",
   "id": "faced-tennis",
   "metadata": {},
   "source": [
    "**Switching Loss in Buck Converter**\n",
    "\n",
    "$\\begin{eqnarray}\n",
    "{P_{out}} &=& V I_L \\\\[0.5em]\n",
    "{P_{in}} &=& V_g \\ (\\frac{Q_R}{T_s} + \\frac{t_r I_L}{T_s} + DI_L) \\\\[0.5em]\n",
    "\\end{eqnarray}$\n",
    "\n",
    "<img src=\"img/CH04/SwitchLoss_Diode.png\" width=\"450\"> \n"
   ]
  },
  {
   "cell_type": "markdown",
   "id": "verified-thursday",
   "metadata": {},
   "source": [
    "**IGBT Loss**\n",
    "\n",
    "<img src=\"img/CH04/IGBT_SwitchLoss.png\" width=\"500\"> \n",
    "\n",
    "<hr>"
   ]
  },
  {
   "cell_type": "markdown",
   "id": "conditional-letter",
   "metadata": {},
   "source": [
    "**Diode Loss**\n",
    "\n",
    "$\\begin{eqnarray}\n",
    "{P_{\\text{diode_loss}}} &=& V_g \\ (\\frac{Q_R}{T_s} + \\frac{t_r I_L}{T_s} ) \\\\[0.5em]\n",
    "&=& V_g \\ (Q_R + t_r I_L ) f_s \\\\[0.5em]\n",
    "\\end{eqnarray}$"
   ]
  },
  {
   "cell_type": "markdown",
   "id": "comprehensive-michael",
   "metadata": {},
   "source": [
    "<img src=\"img/CH04/TransistorWaveforms.png\" width=\"250\"> \n",
    "\n",
    "<hr>"
   ]
  },
  {
   "cell_type": "markdown",
   "id": "warming-group",
   "metadata": {},
   "source": [
    "**Lessons:** MOSFETs with sufficiently low Ron reduce conduction loss. "
   ]
  }
 ],
 "metadata": {
  "kernelspec": {
   "display_name": "Python 3",
   "language": "python",
   "name": "python3"
  },
  "language_info": {
   "codemirror_mode": {
    "name": "ipython",
    "version": 3
   },
   "file_extension": ".py",
   "mimetype": "text/x-python",
   "name": "python",
   "nbconvert_exporter": "python",
   "pygments_lexer": "ipython3",
   "version": "3.7.9"
  },
  "varInspector": {
   "cols": {
    "lenName": 16,
    "lenType": 16,
    "lenVar": 40
   },
   "kernels_config": {
    "python": {
     "delete_cmd_postfix": "",
     "delete_cmd_prefix": "del ",
     "library": "var_list.py",
     "varRefreshCmd": "print(var_dic_list())"
    },
    "r": {
     "delete_cmd_postfix": ") ",
     "delete_cmd_prefix": "rm(",
     "library": "var_list.r",
     "varRefreshCmd": "cat(var_dic_list()) "
    }
   },
   "types_to_exclude": [
    "module",
    "function",
    "builtin_function_or_method",
    "instance",
    "_Feature"
   ],
   "window_display": false
  }
 },
 "nbformat": 4,
 "nbformat_minor": 5
}
