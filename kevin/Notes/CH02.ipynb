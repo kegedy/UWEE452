{
 "cells": [
  {
   "attachments": {},
   "cell_type": "markdown",
   "id": "textile-ceramic",
   "metadata": {},
   "source": [
    "<img src=\"img/CH02/BasicConverters.png\" width=\"450\"> \n",
    "\n",
    "<img src=\"img/CH02/CukConverter.png\" width=\"450\"> \n",
    "\n",
    "<hr>"
   ]
  },
  {
   "cell_type": "markdown",
   "id": "ethical-andorra",
   "metadata": {},
   "source": [
    "$\\begin{eqnarray}\n",
    "\\frac{di_L (t)}{dt} &=& \\frac{v_L(t)}{L} \\rightarrow i_L \\ \\text{slope} \\\\[0.5em]\n",
    "\\frac{dv_C (t)}{dt} &=& \\frac{i_C(t)}{C} \\rightarrow v_C \\ \\text{slope}\\\\[0.5em]\n",
    "\\end{eqnarray}$\n",
    "\n",
    "<hr>\n"
   ]
  },
  {
   "cell_type": "markdown",
   "id": "aquatic-milwaukee",
   "metadata": {},
   "source": [
    "**Given ripple:**\n",
    "\n",
    "$\\begin{eqnarray}\n",
    "2\\cdot(\\text{current ripple}) &=& (i_L \\ \\text{slope})\\cdot D T_s \\\\[0.5em]\n",
    "2\\cdot(\\text{voltage ripple}) &=& (v_C \\ \\text{slope})\\cdot D T_s \\\\[0.5em]\n",
    "\\end{eqnarray}$\n",
    "\n",
    "<hr>"
   ]
  },
  {
   "cell_type": "markdown",
   "id": "suitable-elephant",
   "metadata": {},
   "source": [
    "**Lesson:** By knowledge of the slopes of the inductor current and capacitor voltage waveforms, the ac switching ripple magnitudes may be computed. Inductance and capacitance values can then be chosen to obtain desired ripple magnitudes.\n",
    "\n",
    "<hr>"
   ]
  },
  {
   "cell_type": "code",
   "execution_count": null,
   "id": "material-columbus",
   "metadata": {},
   "outputs": [],
   "source": []
  }
 ],
 "metadata": {
  "kernelspec": {
   "display_name": "Python 3",
   "language": "python",
   "name": "python3"
  },
  "language_info": {
   "codemirror_mode": {
    "name": "ipython",
    "version": 3
   },
   "file_extension": ".py",
   "mimetype": "text/x-python",
   "name": "python",
   "nbconvert_exporter": "python",
   "pygments_lexer": "ipython3",
   "version": "3.7.9"
  },
  "varInspector": {
   "cols": {
    "lenName": 16,
    "lenType": 16,
    "lenVar": 40
   },
   "kernels_config": {
    "python": {
     "delete_cmd_postfix": "",
     "delete_cmd_prefix": "del ",
     "library": "var_list.py",
     "varRefreshCmd": "print(var_dic_list())"
    },
    "r": {
     "delete_cmd_postfix": ") ",
     "delete_cmd_prefix": "rm(",
     "library": "var_list.r",
     "varRefreshCmd": "cat(var_dic_list()) "
    }
   },
   "types_to_exclude": [
    "module",
    "function",
    "builtin_function_or_method",
    "instance",
    "_Feature"
   ],
   "window_display": false
  }
 },
 "nbformat": 4,
 "nbformat_minor": 5
}
