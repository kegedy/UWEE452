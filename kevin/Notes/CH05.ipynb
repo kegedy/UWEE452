{
 "cells": [
  {
   "cell_type": "markdown",
   "id": "applicable-receipt",
   "metadata": {},
   "source": [
    "**Buck Converter**\n",
    "\n",
    "|  CCD            | CCD Boundary     |   DCM            |\n",
    "|:---------------:|:----------------:|:----------------:|\n",
    "|<img src=\"img/CH05/ContinuousConductionMode.png\" width=\"350\">| <img src=\"img/CH05/ContinuousConductionMode2.png\" width=\"350\">|<img src=\"img/CH05/DiscontinuousConductionMode.png\" width=\"350\">|"
   ]
  },
  {
   "cell_type": "markdown",
   "id": "prostate-albania",
   "metadata": {},
   "source": [
    "**Buck Converter: Switching ripple peak amplitude**\n",
    "\n",
    "$\\Delta i_L = \\left( \\frac{V_g-V}{2L} \\right)DT_s = \\frac{V_g D D' T_s}{2L}$"
   ]
  },
  {
   "cell_type": "markdown",
   "id": "mounted-deviation",
   "metadata": {},
   "source": [
    "<img src=\"img/CH05/ConverterModeBoundaries.png\" width=\"600\">"
   ]
  },
  {
   "cell_type": "markdown",
   "id": "institutional-resort",
   "metadata": {},
   "source": [
    "**Boundaries**\n",
    "\n",
    "$K = \\frac{2L}{RT_s}$\n",
    "\n",
    "| Mode   |$K_{crit}$|$R_{crit}$|$\\Delta i_L$|\n",
    "|:-------|:------|:-------|:--------|\n",
    "| CCM     | $K \\gt K_{crit}$| $R \\lt R_{crit}(D)$ | $I \\gt \\Delta i_L$|\n",
    "| DCM     | $K \\lt K_{crit}$| $R \\gt R_{crit}(D)$ | $I \\lt \\Delta i_L$|"
   ]
  },
  {
   "cell_type": "markdown",
   "id": "polyphonic-barrel",
   "metadata": {},
   "source": [
    "<img src=\"img/CH05/CCM-DCM-Summary.png\" width=\"600\">"
   ]
  },
  {
   "cell_type": "code",
   "execution_count": null,
   "id": "steady-organic",
   "metadata": {},
   "outputs": [],
   "source": []
  }
 ],
 "metadata": {
  "kernelspec": {
   "display_name": "Python 3",
   "language": "python",
   "name": "python3"
  },
  "language_info": {
   "codemirror_mode": {
    "name": "ipython",
    "version": 3
   },
   "file_extension": ".py",
   "mimetype": "text/x-python",
   "name": "python",
   "nbconvert_exporter": "python",
   "pygments_lexer": "ipython3",
   "version": "3.7.9"
  },
  "varInspector": {
   "cols": {
    "lenName": 16,
    "lenType": 16,
    "lenVar": 40
   },
   "kernels_config": {
    "python": {
     "delete_cmd_postfix": "",
     "delete_cmd_prefix": "del ",
     "library": "var_list.py",
     "varRefreshCmd": "print(var_dic_list())"
    },
    "r": {
     "delete_cmd_postfix": ") ",
     "delete_cmd_prefix": "rm(",
     "library": "var_list.r",
     "varRefreshCmd": "cat(var_dic_list()) "
    }
   },
   "types_to_exclude": [
    "module",
    "function",
    "builtin_function_or_method",
    "instance",
    "_Feature"
   ],
   "window_display": false
  }
 },
 "nbformat": 4,
 "nbformat_minor": 5
}
