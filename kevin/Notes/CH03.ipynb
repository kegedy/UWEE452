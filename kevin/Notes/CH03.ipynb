{
 "cells": [
  {
   "cell_type": "markdown",
   "id": "insured-recording",
   "metadata": {},
   "source": [
    "\n",
    "<img src=\"img/CH03/EquivalentCircuitModel.png\" width=\"400\"> \n",
    "\n",
    "<hr>\n"
   ]
  },
  {
   "cell_type": "markdown",
   "id": "decimal-found",
   "metadata": {},
   "source": [
    "<img src=\"img/CH03/TransformerRules.png\" width=\"400\"> \n",
    "\n",
    "<hr>\n"
   ]
  },
  {
   "cell_type": "markdown",
   "id": "essential-vinyl",
   "metadata": {},
   "source": [
    "<img src=\"img/CH03/LossMechanisms.png\" width=\"450\"> \n",
    "\n",
    "<hr>"
   ]
  },
  {
   "cell_type": "markdown",
   "id": "quiet-barrier",
   "metadata": {},
   "source": [
    "**Buck Converter**\n",
    "\n",
    "<img src=\"img/CH03/BuckTransformerModel.png\" width=\"450\"> \n",
    "\n",
    "<hr>"
   ]
  },
  {
   "cell_type": "markdown",
   "id": "complicated-retreat",
   "metadata": {},
   "source": [
    "**Boost Converter**\n",
    "\n",
    "<img src=\"img/CH03/BoostTransformerModel.png\" width=\"450\"> \n",
    "\n",
    "<hr>"
   ]
  },
  {
   "cell_type": "code",
   "execution_count": null,
   "id": "metallic-weapon",
   "metadata": {},
   "outputs": [],
   "source": []
  }
 ],
 "metadata": {
  "kernelspec": {
   "display_name": "Python 3",
   "language": "python",
   "name": "python3"
  },
  "language_info": {
   "codemirror_mode": {
    "name": "ipython",
    "version": 3
   },
   "file_extension": ".py",
   "mimetype": "text/x-python",
   "name": "python",
   "nbconvert_exporter": "python",
   "pygments_lexer": "ipython3",
   "version": "3.7.9"
  },
  "varInspector": {
   "cols": {
    "lenName": 16,
    "lenType": 16,
    "lenVar": 40
   },
   "kernels_config": {
    "python": {
     "delete_cmd_postfix": "",
     "delete_cmd_prefix": "del ",
     "library": "var_list.py",
     "varRefreshCmd": "print(var_dic_list())"
    },
    "r": {
     "delete_cmd_postfix": ") ",
     "delete_cmd_prefix": "rm(",
     "library": "var_list.r",
     "varRefreshCmd": "cat(var_dic_list()) "
    }
   },
   "types_to_exclude": [
    "module",
    "function",
    "builtin_function_or_method",
    "instance",
    "_Feature"
   ],
   "window_display": false
  }
 },
 "nbformat": 4,
 "nbformat_minor": 5
}
