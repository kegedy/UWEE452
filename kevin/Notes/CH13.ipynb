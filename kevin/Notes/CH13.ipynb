{
 "cells": [
  {
   "cell_type": "markdown",
   "id": "numerous-unknown",
   "metadata": {},
   "source": [
    "**saturation** a core material saturates when the flux density B reaches the saturation flux dex density $B_{sat}$. The equivalent magnetic circuit behaves as a short circuit and results in large inductor currents.\n",
    "\n",
    "**permeability** is a measure of a material's resistance to the magnetic field"
   ]
  },
  {
   "cell_type": "markdown",
   "id": "productive-interval",
   "metadata": {},
   "source": [
    "**Basic Relationships**\n",
    "\n",
    "<img src=\"img/CH13/BasicRelationships.png\" width=\"500\">"
   ]
  },
  {
   "cell_type": "markdown",
   "id": "twenty-performer",
   "metadata": {},
   "source": [
    "<img src=\"img/CH13/MagneticCircuits.png\" width=\"500\">"
   ]
  },
  {
   "cell_type": "markdown",
   "id": "maritime-bulletin",
   "metadata": {},
   "source": [
    "**Faraday's Law**\n",
    "<img src=\"img/CH13/FaradayLaw.png\" width=\"450\">\n",
    "$$\n",
    "v(t) = \\frac{d\\Phi(t)}{dt}\n",
    "\\\\\n",
    "v(t) = A_c \\frac{dB(t)}{dt}\n",
    "$$\n",
    "\n",
    "The voltage $v(t)$ induced in a loop of wire is equal to the derivative of the total flux $\\Phi(t)$ passing through the interior of the loop."
   ]
  },
  {
   "cell_type": "markdown",
   "id": "micro-detector",
   "metadata": {},
   "source": [
    "**Ampere's Law**\n",
    "<img src=\"img/CH13/AmpereLaw.png\" width=\"400\">\n",
    "$$\n",
    "\\oint_{closed path} H \\cdot \\,dl \\\\\n",
    "\\\\\n",
    "\\mathcal{F} = H(t)\\mathcal{l}_m = i(t)\n",
    "$$\n",
    "\n",
    "The net MMF around a closed path of length $l_m$ is equal to the total current passing through the interior of the path. \n",
    "\n"
   ]
  },
  {
   "cell_type": "markdown",
   "id": "hawaiian-taylor",
   "metadata": {},
   "source": [
    "**Lenz's Law**\n",
    "\n",
    "<img src=\"img/CH13/LenzLaw.png\" width=\"500\">"
   ]
  },
  {
   "cell_type": "markdown",
   "id": "elegant-calculation",
   "metadata": {},
   "source": [
    "**Magnetic to Electric**\n",
    "\n",
    "<img src=\"img/CH13/relationships.png\" width=\"500\">\n",
    "\n",
    "|  Quantity       | Unit        | Comment |\n",
    "|:---------------:|:-----------:|:-------:|\n",
    "| $B(t)$   | [Wb/$m^2$] = [T] | magnetic intensity / magnetic flux density|\n",
    "| $\\Phi(t)$ | [Wb] = [V $\\cdot$ s] | magnetic flux |\n",
    "| $H(t)$   | [A/m] | magnetic field strength |\n",
    "| $\\mathcal{F}(t)$ | [A] | magnetomotive force (MMF) |"
   ]
  },
  {
   "cell_type": "markdown",
   "id": "moderate-modification",
   "metadata": {},
   "source": [
    "**Magnetic Hysteresis**\n",
    "\n",
    "- Magnetic hysteresis occurs when an external magnetic field is applied to a ferromagnet such as iron and the atomic dipoles align themselves with it and retain material memory. To demagnetize it requires heat or a magnetic field in the opposite direction."
   ]
  },
  {
   "cell_type": "markdown",
   "id": "french-shuttle",
   "metadata": {},
   "source": [
    "<img src=\"img/CH13/MagneticHysteresisLoop.png\" width=\"400\">"
   ]
  },
  {
   "cell_type": "markdown",
   "id": "attractive-incident",
   "metadata": {},
   "source": [
    "<img src=\"img/CH13/MagneticHysteresisExplanation.png\" width=\"500\">"
   ]
  },
  {
   "cell_type": "markdown",
   "id": "elementary-laundry",
   "metadata": {},
   "source": [
    "<img src=\"img/CH13/Transformer_B-H_Characteristics.png\" width=\"600\">"
   ]
  },
  {
   "cell_type": "markdown",
   "id": "greek-skating",
   "metadata": {},
   "source": [
    "**Transformer Cores**\n",
    "- magnetizing current $i_M$ is proportional to the magnetic field $H(t)$ inside the transformer core\n",
    "- if $i_M$ becomes too large, the magnitude of the magnetic field $H(t)$ causes the core to saturate\n",
    "  - then the magnetizing inductance becomes very small and effectively shorts the transformer\n",
    "\n",
    "Transformers don't work in DC circuits\n",
    "- Magnetizing inductance has zero impedance and shorts out the windings\n",
    "\n",
    "Designing Transformers\n",
    "- impedance of the magnetizing inductance should be large over range of operating frequencies\n",
    "  - thus $i_M(t)$ has much smaller magnitude than $i_1(t)$\n",
    "  - simplified circuit becomes $i'_1(t) \\approx i_1(t)$ which is the behavor of an ideal transformer!"
   ]
  },
  {
   "cell_type": "markdown",
   "id": "global-carolina",
   "metadata": {},
   "source": [
    "**Magnetic Circuit Model**\n",
    "\n",
    "<img src=\"img/CH13/MagneticCircuitModel.png\" width=\"600\">"
   ]
  },
  {
   "cell_type": "markdown",
   "id": "upset-zealand",
   "metadata": {},
   "source": [
    "**Saturation**\n",
    "\n",
    "$\\begin{equation}\n",
    "\\Phi_{sat} = B_{sat} A_c \\\\\n",
    "\\\\\n",
    "I_{sat} = \\frac{B_{sat} A_c}{n} \\left(\\mathcal{R}_c + \\mathcal{R}_g \\right)\n",
    "\\end{equation}$"
   ]
  },
  {
   "cell_type": "markdown",
   "id": "thick-eagle",
   "metadata": {},
   "source": [
    "**Air Gap**\n",
    "\n",
    "- Without air gap, the inductor is directly proportional to the core permeability $\\mu$. \n",
    "  - Inductor is hard to control since this quantity is dependent on temperature and operating point\n",
    "- Addition of air gap means $\\mathcal{R}_g \\gg \\mathcal{R}_c$ so that $L$ is insensitive to variations in $\\mu$\n",
    "  - $L \\approx \\frac{n^2}{\\mathcal{R}_g}$\n",
    "- Air gap increases $\\uparrow$ total reluctance of the magnetic circuit and decreases $\\downarrow$ the inductance\n",
    "- Air gap allows the inductor to operate at higher values of winding current $i(t)$ without saturation"
   ]
  },
  {
   "cell_type": "markdown",
   "id": "animal-priest",
   "metadata": {},
   "source": [
    "<img src=\"img/CH13/AirGapEffect.png\" width=\"500\">"
   ]
  },
  {
   "cell_type": "markdown",
   "id": "chemical-genome",
   "metadata": {},
   "source": [
    "**Golden Rules**\n",
    "\n",
    "<img src=\"img/CH13/TransformerGoldenRules.png\" width=\"400\">"
   ]
  },
  {
   "cell_type": "markdown",
   "id": "polar-official",
   "metadata": {},
   "source": [
    "**Equivalent Model with magnetizing inductance**\n",
    "\n",
    "<img src=\"img/CH13/MagnetizingInductanceModel.png\" width=\"600\">"
   ]
  },
  {
   "cell_type": "markdown",
   "id": "determined-celebration",
   "metadata": {},
   "source": [
    "$$\n",
    "\\frac{d\\Phi}{dt} = \\frac{v_1(t)}{n_1} = \\frac{v_2(t)}{n_2} = \\frac{v_3(t)}{n_3} = \\ ... \n",
    "\\\\\n",
    "0 = n_1 i'_1(t) + n_2 i_2(t) + n_3 i_3(t)\n",
    "$$"
   ]
  },
  {
   "cell_type": "code",
   "execution_count": null,
   "id": "prostate-pathology",
   "metadata": {},
   "outputs": [],
   "source": []
  }
 ],
 "metadata": {
  "kernelspec": {
   "display_name": "Python 3",
   "language": "python",
   "name": "python3"
  },
  "language_info": {
   "codemirror_mode": {
    "name": "ipython",
    "version": 3
   },
   "file_extension": ".py",
   "mimetype": "text/x-python",
   "name": "python",
   "nbconvert_exporter": "python",
   "pygments_lexer": "ipython3",
   "version": "3.7.9"
  },
  "varInspector": {
   "cols": {
    "lenName": 16,
    "lenType": 16,
    "lenVar": 40
   },
   "kernels_config": {
    "python": {
     "delete_cmd_postfix": "",
     "delete_cmd_prefix": "del ",
     "library": "var_list.py",
     "varRefreshCmd": "print(var_dic_list())"
    },
    "r": {
     "delete_cmd_postfix": ") ",
     "delete_cmd_prefix": "rm(",
     "library": "var_list.r",
     "varRefreshCmd": "cat(var_dic_list()) "
    }
   },
   "types_to_exclude": [
    "module",
    "function",
    "builtin_function_or_method",
    "instance",
    "_Feature"
   ],
   "window_display": false
  }
 },
 "nbformat": 4,
 "nbformat_minor": 5
}
