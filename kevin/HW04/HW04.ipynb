{
 "cells": [
  {
   "cell_type": "code",
   "execution_count": 1,
   "id": "engaging-transparency",
   "metadata": {},
   "outputs": [],
   "source": [
    "# Imports\n",
    "import os\n",
    "import sys\n",
    "import cmath\n",
    "import math\n",
    "import matplotlib.pyplot as plt\n",
    "import matplotlib\n",
    "import numpy as np\n",
    "import pandas as pd\n",
    "import sympy as sp\n",
    "from sympy.utilities.lambdify import lambdify\n",
    "from scipy import signal\n",
    "%matplotlib inline\n",
    "from IPython.core.interactiveshell import InteractiveShell\n",
    "InteractiveShell.ast_node_interactivity = \"all\"\n",
    "from matplotlib.ticker import LogLocator"
   ]
  },
  {
   "cell_type": "markdown",
   "id": "approximate-postcard",
   "metadata": {},
   "source": [
    "**Problem 1**"
   ]
  },
  {
   "cell_type": "markdown",
   "id": "useful-hunger",
   "metadata": {},
   "source": [
    "$\\begin{eqnarray}\n",
    "P_{sw} &=& \\frac{1}{T_s} \\int p_a(t)\\ dt = (W_{on} + W_{off})\\ f_{s} \\\\[0.5em]\n",
    "W_{on} &=& \\left[\\frac{1}{2} \\cdot (1-0.75) \\cdot 400 \\cdot 10\\right] + \\left[(1.5-1) \\cdot 100 \\cdot 10\\right] + \\left[\\frac{1}{2} \\cdot (1.5-1) \\cdot 300 \\cdot 10\\right]+ \\left[\\frac{1}{2} \\cdot (2-1.5) \\cdot 100 \\cdot 10\\right] \\\\[0.5em]\n",
    "W_{on} &=& 500 + 500 + 750 + 250 = 2000 J \\\\[0.5em]\n",
    "W_{off} &=& \\left[\\frac{1}{2} \\cdot (3-2.5) \\cdot 400 \\cdot 10\\right] + \\left[(3.5-3) \\cdot 400 \\cdot 5\\right] + \\left[\\frac{1}{2} \\cdot (3.5-3) \\cdot 400 \\cdot 5\\right] + \\left[\\frac{1}{2} \\cdot (5-3.5) \\cdot 400 \\cdot 5\\right]  \\\\[0.5em]\n",
    "W_{off} &=& 1000 + 1000 + 500 + 1500 = 4000 J \\\\[0.5em]\n",
    "\\end{eqnarray}$\n",
    "\n",
    "<hr>"
   ]
  },
  {
   "cell_type": "markdown",
   "id": "opposite-trinidad",
   "metadata": {},
   "source": [
    "**Problem 2**"
   ]
  },
  {
   "cell_type": "markdown",
   "id": "changed-reducing",
   "metadata": {},
   "source": [
    "$\\begin{eqnarray}\n",
    "P_{\\text{Conduction}} &=& \\frac{1}{T_s} \\int_{0}^{D T_s} (I\\cdot V_{\\text{IGBT}}) dt + \\frac{1}{T_s} \\int_{D T_s}^{T_s} (I\\cdot V_{\\text{Diode}}) dt  \\\\[0.5em]\n",
    " &=& D (I\\cdot V_{\\text{IGBT}}) + (1-D)(I\\cdot V_{\\text{Diode}})   \\\\[0.5em]\n",
    "\\end{eqnarray}$\n",
    "\n",
    "<hr>"
   ]
  },
  {
   "cell_type": "markdown",
   "id": "banned-static",
   "metadata": {},
   "source": [
    "**Problem 3**"
   ]
  },
  {
   "cell_type": "markdown",
   "id": "legislative-committee",
   "metadata": {},
   "source": [
    "$\\begin{eqnarray}\n",
    "\n",
    "\\end{eqnarray}$"
   ]
  },
  {
   "cell_type": "code",
   "execution_count": 11,
   "id": "located-demographic",
   "metadata": {},
   "outputs": [
    {
     "name": "stderr",
     "output_type": "stream",
     "text": [
      "No handles with labels found to put in legend.\n"
     ]
    },
    {
     "data": {
      "image/png": "[encoded data removed]",
      "text/plain": [
       "<Figure size 576x576 with 1 Axes>"
      ]
     },
     "metadata": {
      "needs_background": "light"
     },
     "output_type": "display_data"
    }
   ],
   "source": [
    "fs = np.linspace(1e3,100e3,100)\n",
    "Ts = 1/fs\n",
    "\n",
    "\n",
    "\n",
    "\n",
    "fig, ax = plt.subplots(figsize=(8,8))\n",
    "ax.set_title('Efficiency 1 kHz $\\leq f_s \\leq$ 100 kHz')\n",
    "ax.semilogx(fs,2e-6/Ts)\n",
    "ax.set_ylabel('Efficiency [$\\eta$]')\n",
    "ax.set_xlabel('Frequency [Hz]')\n",
    "ax.grid(which='both', axis='both')\n",
    "ax.legend()\n",
    "plt.show();"
   ]
  },
  {
   "cell_type": "code",
   "execution_count": null,
   "id": "unsigned-rally",
   "metadata": {},
   "outputs": [],
   "source": []
  }
 ],
 "metadata": {
  "kernelspec": {
   "display_name": "Python 3",
   "language": "python",
   "name": "python3"
  },
  "language_info": {
   "codemirror_mode": {
    "name": "ipython",
    "version": 3
   },
   "file_extension": ".py",
   "mimetype": "text/x-python",
   "name": "python",
   "nbconvert_exporter": "python",
   "pygments_lexer": "ipython3",
   "version": "3.7.9"
  },
  "varInspector": {
   "cols": {
    "lenName": 16,
    "lenType": 16,
    "lenVar": 40
   },
   "kernels_config": {
    "python": {
     "delete_cmd_postfix": "",
     "delete_cmd_prefix": "del ",
     "library": "var_list.py",
     "varRefreshCmd": "print(var_dic_list())"
    },
    "r": {
     "delete_cmd_postfix": ") ",
     "delete_cmd_prefix": "rm(",
     "library": "var_list.r",
     "varRefreshCmd": "cat(var_dic_list()) "
    }
   },
   "types_to_exclude": [
    "module",
    "function",
    "builtin_function_or_method",
    "instance",
    "_Feature"
   ],
   "window_display": false
  }
 },
 "nbformat": 4,
 "nbformat_minor": 5
}
