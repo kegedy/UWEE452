{
 "cells": [
  {
   "cell_type": "code",
   "execution_count": 1,
   "id": "acoustic-therapist",
   "metadata": {},
   "outputs": [],
   "source": [
    "# Imports\n",
    "import os\n",
    "import sys\n",
    "import cmath\n",
    "import math\n",
    "import matplotlib.pyplot as plt\n",
    "import matplotlib\n",
    "import numpy as np\n",
    "import pandas as pd\n",
    "import sympy as sp\n",
    "from sympy.utilities.lambdify import lambdify\n",
    "from scipy import signal\n",
    "%matplotlib inline\n",
    "from IPython.core.interactiveshell import InteractiveShell\n",
    "InteractiveShell.ast_node_interactivity = \"all\"\n",
    "from matplotlib.ticker import LogLocator"
   ]
  },
  {
   "cell_type": "markdown",
   "id": "arctic-kitchen",
   "metadata": {},
   "source": [
    "**Problem 1**"
   ]
  },
  {
   "cell_type": "markdown",
   "id": "passive-genesis",
   "metadata": {},
   "source": [
    "$\\begin{eqnarray}\n",
    "P_{sw} &=& \\frac{1}{T_s} \\int p_a(t)\\ dt = (W_{on} + W_{off})\\ f_{s} \\\\[0.5em]\n",
    "W_{on} &=& \\left[\\frac{1}{2} \\cdot 400 \\cdot 35 \\cdot (1-0.75)\\cdot 10^{-6}\\right] + \\left[100 \\cdot 10 \\cdot (1.5-1)\\cdot 10^{-6}\\right] + \\left[\\frac{1}{2} \\cdot 300 \\cdot 10 \\cdot (1.5-1)\\cdot 10^{-6}\\right]+ \\left[\\frac{1}{2} \\cdot 100 \\cdot 10 \\cdot (2-1.5) \\cdot 10^{-6}\\right] \\\\[0.5em]\n",
    "W_{on} &=& = 3.25 mJ \\\\[0.5em]\n",
    "W_{off} &=& \\left[\\frac{1}{2} \\cdot 400 \\cdot 10 \\cdot (3-2.5)\\cdot 10^{-6}\\right] + \\left[400 \\cdot 5 \\cdot (3.5-3)\\cdot 10^{-6}\\right] + \\left[\\frac{1}{2} \\cdot 400 \\cdot 5 \\cdot (3.5-3)\\cdot 10^{-6} \\right] + \\left[\\frac{1}{2} \\cdot 400 \\cdot 5 \\cdot (5-3.5)\\cdot 10^{-6}\\right]  \\\\[0.5em]\n",
    "W_{off} &=& 4 mJ \\\\[0.5em]\n",
    "W_{\\text{total}} &=& W_{on} + W_{off} \\\\[0.5em]\n",
    "W_{\\text{total}} &=& 3.25mJ + 4mJ = 7.25mJ \\\\[0.5em]\n",
    "\\end{eqnarray}$\n",
    "\n",
    "<hr>"
   ]
  },
  {
   "cell_type": "markdown",
   "id": "thirty-force",
   "metadata": {},
   "source": [
    "**Problem 2**"
   ]
  },
  {
   "cell_type": "markdown",
   "id": "bigger-ethernet",
   "metadata": {},
   "source": [
    "$\\begin{eqnarray}\n",
    "P_{\\text{Conduction}} &=& \\frac{1}{T_s} \\int_{0}^{D T_s} (I\\cdot V_{\\text{IGBT}}) dt + \\frac{1}{T_s} \\int_{D T_s}^{T_s} (I\\cdot V_{\\text{Diode}}) dt  \\\\[0.5em]\n",
    " &=& D (I\\cdot V_{\\text{IGBT}}) + (1-D)(I\\cdot V_{\\text{Diode}})   \\\\[0.5em]\n",
    "\\end{eqnarray}$\n",
    "\n",
    "<hr>\n",
    "\n",
    "Switch $[0<t<DT_s]$\n",
    "\n",
    "$\\begin{eqnarray}\n",
    "0 &=& V_g - V_{CE} - v_L - v\\\\[0.25em]\n",
    "v_L &=& V_g - V_{CE} - v \\\\[0.25em]\n",
    "\\end{eqnarray}$\n",
    "\n",
    "<hr>\n",
    "\n",
    "Switch $[DT_s<t<T_s]$\n",
    "\n",
    "$\\begin{eqnarray}\n",
    "0 &=& -V_B - v_L -v \\\\[0.25em]\n",
    "v_L &=& -(V_B + v) \\\\[0.25em]\n",
    "\\end{eqnarray}$\n",
    "\n",
    "<hr>\n",
    "\n",
    "Total Volt Seconds over 1 period for Inductor Voltage (small ripple approx)\n",
    "\n",
    "$\\begin{eqnarray}\n",
    "<v_L> &=& \\frac{1}{T_S} \\int_{o}^{T_S} v_L(t) dt \\\\[0.25em]\n",
    "0 &=& \\left[D \\cdot (V_g - V_{CE} - V)\\right] + \\left[D' \\cdot (-V_B -V) \\right] \\\\[0.25em]\n",
    "0 &=& -(D+D')V + DV_g - D V_{CE} - D' V_B \\\\[0.25em]\n",
    "0 &=& -V + DV_g - D V_{CE} - (1-D) V_B \\\\[0.25em]\n",
    "0 &=& -(V+V_B) + D(V_g - V_{CE} + V_B) \\\\[0.25em]\n",
    "D &=& \\frac{V+V_B}{V_g - V_{CE} + V_B} = \\frac{200+1.5}{400 - 2.5 + 1.5} = 0.505 \\ [\\text{Duty Cycle Ratio}] \\\\[0.25em]\n",
    "\\end{eqnarray}$\n",
    "\n",
    "<hr>\n",
    "\n",
    "$\\begin{eqnarray}\n",
    "P_{\\text{Conduction}} &=& D (I\\cdot V_{\\text{IGBT}}) + (1-D)(I\\cdot V_{\\text{Diode}})  \\\\[0.5em]\n",
    "&=& 0.505 \\cdot (10 \\cdot 2.5) + (1-0.505) \\cdot (10 \\cdot 1.5) \\\\[0.5em]\n",
    "&=& 20.05 \\ \\text{Watts}\n",
    "\\end{eqnarray}$\n",
    "\n",
    "<hr>"
   ]
  },
  {
   "cell_type": "markdown",
   "id": "multiple-sellers",
   "metadata": {},
   "source": [
    "**Problem 3**"
   ]
  },
  {
   "cell_type": "markdown",
   "id": "trying-penetration",
   "metadata": {},
   "source": [
    "Switch $[0<t<DT_s]$\n",
    "\n",
    "$\\begin{eqnarray}\n",
    "i_C &=& i_L -\\frac{v}{R} \\\\[0.25em]\n",
    "\\end{eqnarray}$\n",
    "\n",
    "Switch $[DT_s<t<T_s]$\n",
    "\n",
    "$\\begin{eqnarray}\n",
    "i_C &=& i_L -\\frac{v}{R} \\\\[0.25em]\n",
    "\\end{eqnarray}$\n",
    "\n",
    "Total Volt Seconds over 1 period for Capacitor Current (small ripple approx)\n",
    "\n",
    "$\\begin{eqnarray}\n",
    "<i_C> &=& \\frac{1}{T_S} \\int_{o}^{T_S} i_C(t) dt \\\\[0.25em]\n",
    "0 &=& \\left[D \\cdot (I-\\frac{V}{R})\\right] + \\left[(D') \\cdot (I-\\frac{V}{R})\\right] \\\\[0.25em]\n",
    "0 &=& (D+D') I -(D+D')(\\frac{V}{R}) \\\\[0.25em]\n",
    "I &=& \\frac{V}{R} = 10A && [\\text{Inductor Current }I] \\\\[0.25em]\n",
    "\\end{eqnarray}$\n",
    "\n",
    "<hr>\n",
    "\n",
    "$\\begin{eqnarray}\n",
    "\\eta &=& \\frac{P_{out}}{P_{in}} \\\\[0.5em]\n",
    "P_{out} &=& VI = (200)(10) = 2000W \\\\[0.5em]\n",
    "P_{in} &=& V_g I_T + P_{\\text{Conduction}} + P_{sw} \\\\[0.5em]\n",
    " &=& V_g \\left(\\frac{I_L D T_S + I_L t_r + Q_R}{T_s}\\right) + P_{\\text{Conduction}} + P_{sw} \\\\[0.5em]\n",
    " &\\approx&  V_g \\left(\\frac{I_L D T_S + I_L t_r}{T_s}\\right) + P_{\\text{Conduction}} + P_{sw} \\\\[0.5em]\n",
    "  &\\approx&  V_g (I_L D + I_L t_r f_s) + P_{\\text{Conduction}} + P_{sw} \\\\[0.5em]\n",
    "&\\approx& 400[(10 \\cdot 0.505) + (10\\cdot 0.5\\cdot10^{-6})f_s] + (20.05) + (7.25\\cdot 10^{-3}f_s) \\\\[0.5em]\n",
    "\\eta &\\approx& \\frac{2000}{2040.05 + (9.25\\cdot 10^{-3})f_s}\n",
    "\\end{eqnarray}$"
   ]
  },
  {
   "cell_type": "code",
   "execution_count": 4,
   "id": "cellular-hungarian",
   "metadata": {},
   "outputs": [],
   "source": [
    "fs = np.linspace(1e3,100e3,100)\n",
    "Ts = 1/fs\n",
    "Won = 3.25E-3 # Joules\n",
    "Woff = 4E-3 # Joules\n",
    "Wtotal = Won + Woff # Joules\n",
    "Pcond = 20.05 # Watts\n",
    "Pout = 200*10\n",
    "Vg = 400\n",
    "I = 10\n",
    "D = 0.505\n",
    "tr = 0.5E-6\n",
    "Pin = Vg*(I*D+I*tr*fs) + Pcond + Wtotal*fs"
   ]
  },
  {
   "cell_type": "code",
   "execution_count": 5,
   "id": "earlier-board",
   "metadata": {},
   "outputs": [
    {
     "name": "stderr",
     "output_type": "stream",
     "text": [
      "No handles with labels found to put in legend.\n"
     ]
    },
    {
     "data": {
      "image/png": "[encoded data removed]",
      "text/plain": [
       "<Figure size 576x360 with 1 Axes>"
      ]
     },
     "metadata": {
      "needs_background": "light"
     },
     "output_type": "display_data"
    }
   ],
   "source": [
    "fig, ax = plt.subplots(figsize=(8,5))\n",
    "ax.set_title('Efficiency 1 kHz $\\leq f_s \\leq$ 100 kHz')\n",
    "ax.semilogx(fs,Pout/Pin)\n",
    "ax.set_ylabel('Efficiency [$\\eta$]')\n",
    "ax.set_xlabel('Frequency [Hz]')\n",
    "ax.grid(which='both', axis='both')\n",
    "ax.legend()\n",
    "plt.show();"
   ]
  },
  {
   "cell_type": "code",
   "execution_count": null,
   "id": "authorized-upgrade",
   "metadata": {},
   "outputs": [],
   "source": []
  },
  {
   "cell_type": "code",
   "execution_count": null,
   "id": "resistant-austin",
   "metadata": {},
   "outputs": [],
   "source": []
  }
 ],
 "metadata": {
  "kernelspec": {
   "display_name": "Python 3",
   "language": "python",
   "name": "python3"
  },
  "language_info": {
   "codemirror_mode": {
    "name": "ipython",
    "version": 3
   },
   "file_extension": ".py",
   "mimetype": "text/x-python",
   "name": "python",
   "nbconvert_exporter": "python",
   "pygments_lexer": "ipython3",
   "version": "3.7.9"
  },
  "varInspector": {
   "cols": {
    "lenName": 16,
    "lenType": 16,
    "lenVar": 40
   },
   "kernels_config": {
    "python": {
     "delete_cmd_postfix": "",
     "delete_cmd_prefix": "del ",
     "library": "var_list.py",
     "varRefreshCmd": "print(var_dic_list())"
    },
    "r": {
     "delete_cmd_postfix": ") ",
     "delete_cmd_prefix": "rm(",
     "library": "var_list.r",
     "varRefreshCmd": "cat(var_dic_list()) "
    }
   },
   "types_to_exclude": [
    "module",
    "function",
    "builtin_function_or_method",
    "instance",
    "_Feature"
   ],
   "window_display": false
  }
 },
 "nbformat": 4,
 "nbformat_minor": 5
}
