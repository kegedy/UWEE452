{
 "cells": [
  {
   "cell_type": "code",
   "execution_count": 1,
   "id": "official-winter",
   "metadata": {},
   "outputs": [],
   "source": [
    "# Imports\n",
    "import os\n",
    "import sys\n",
    "import cmath\n",
    "import math\n",
    "import matplotlib.pyplot as plt\n",
    "import matplotlib\n",
    "import numpy as np\n",
    "import pandas as pd\n",
    "import sympy as sp\n",
    "from sympy.utilities.lambdify import lambdify\n",
    "from scipy import signal\n",
    "%matplotlib inline\n",
    "from IPython.core.interactiveshell import InteractiveShell\n",
    "InteractiveShell.ast_node_interactivity = \"all\"\n",
    "from matplotlib.ticker import LogLocator"
   ]
  },
  {
   "cell_type": "code",
   "execution_count": 17,
   "id": "powered-gamma",
   "metadata": {},
   "outputs": [],
   "source": [
    "def par(R1,R2):\n",
    "    return (1/R1 + 1/R2)**-1"
   ]
  },
  {
   "cell_type": "markdown",
   "id": "threatened-decade",
   "metadata": {},
   "source": [
    "**Problem 1**"
   ]
  },
  {
   "cell_type": "markdown",
   "id": "physical-directory",
   "metadata": {},
   "source": [
    "$\\begin{eqnarray}\n",
    "\\mathcal{R}_c &=& \\frac{\\ell _c}{\\mu_0 \\mu_r A_c} \\\\[0.5em]\n",
    "&=& \\frac{3\\cdot 10^{-2}m}{(4\\pi \\cdot 10^{-7} \\frac{H}{m}) (1000) (10^{-2}m \\cdot 10^{-2}m)} \\\\[0.5em]\n",
    "&=& 2.39\\cdot 10^5 H^{-1}\n",
    "\\end{eqnarray}$"
   ]
  },
  {
   "cell_type": "markdown",
   "id": "statistical-breakfast",
   "metadata": {},
   "source": [
    "$\\begin{eqnarray}\n",
    "\\mathcal{R}_c &=& \\frac{\\ell _c}{\\mu_0 \\mu_r A_c} \\\\[0.5em]\n",
    "&=& \\frac{3\\cdot 10^{-2}m}{(4\\pi \\cdot 10^{-7} \\frac{H}{m}) (1000) (10^{-2}m \\cdot 0.5\\cdot10^{-2}m)} \\\\[0.5em]\n",
    "&=& 4.77\\cdot 10^5 H^{-1}\n",
    "\\end{eqnarray}$"
   ]
  },
  {
   "cell_type": "code",
   "execution_count": 10,
   "id": "changed-gross",
   "metadata": {},
   "outputs": [],
   "source": [
    "lc = 3E-2\n",
    "mu0 = 4*np.pi*1E-7\n",
    "mur = 1000\n",
    "Ac = 1E-2*1E-2"
   ]
  },
  {
   "cell_type": "code",
   "execution_count": 14,
   "id": "generic-diabetes",
   "metadata": {},
   "outputs": [
    {
     "data": {
      "text/plain": [
       "238732.414637843"
      ]
     },
     "execution_count": 14,
     "metadata": {},
     "output_type": "execute_result"
    }
   ],
   "source": [
    "R1 = lc/(mu0*mur*Ac)\n",
    "R1"
   ]
  },
  {
   "cell_type": "code",
   "execution_count": 15,
   "id": "located-slovenia",
   "metadata": {},
   "outputs": [
    {
     "data": {
      "text/plain": [
       "477464.829275686"
      ]
     },
     "execution_count": 15,
     "metadata": {},
     "output_type": "execute_result"
    }
   ],
   "source": [
    "R2 = lc/(mu0*mur*0.5*Ac)\n",
    "R2"
   ]
  },
  {
   "cell_type": "code",
   "execution_count": 21,
   "id": "secret-devil",
   "metadata": {},
   "outputs": [
    {
     "data": {
      "text/plain": [
       "907183.1756238034"
      ]
     },
     "execution_count": 21,
     "metadata": {},
     "output_type": "execute_result"
    }
   ],
   "source": [
    "Req = 3*R1 + par(R1,2*R1 + R2)\n",
    "Req"
   ]
  },
  {
   "cell_type": "markdown",
   "id": "varying-commercial",
   "metadata": {},
   "source": [
    "**Problem 2**"
   ]
  },
  {
   "cell_type": "code",
   "execution_count": 22,
   "id": "likely-stack",
   "metadata": {},
   "outputs": [
    {
     "data": {
      "text/plain": [
       "0.00011023132117858924"
      ]
     },
     "execution_count": 22,
     "metadata": {},
     "output_type": "execute_result"
    }
   ],
   "source": [
    "10**2/Req"
   ]
  },
  {
   "cell_type": "markdown",
   "id": "dependent-float",
   "metadata": {},
   "source": [
    "$\\begin{eqnarray}\n",
    "L &=& \\frac{n^2}{\\mathcal{R}_c + \\mathcal{R}_g} \\\\[0.5em]\n",
    "&=& \\frac{n^2}{\\mathcal{R}_{eq}} \\\\[0.5em]\n",
    "&=&  \\frac{10^2}{90.6\\cdot10^5 H^{-1}} \\\\[0.5em]\n",
    "&=& 0.11 mH\n",
    "\\end{eqnarray}$"
   ]
  },
  {
   "cell_type": "markdown",
   "id": "turkish-republic",
   "metadata": {},
   "source": [
    "**Problem 3**"
   ]
  },
  {
   "cell_type": "code",
   "execution_count": 24,
   "id": "innocent-diagnosis",
   "metadata": {},
   "outputs": [
    {
     "data": {
      "text/plain": [
       "0.14884233737596472"
      ]
     },
     "execution_count": 24,
     "metadata": {},
     "output_type": "execute_result"
    }
   ],
   "source": [
    "13.5/90.7"
   ]
  },
  {
   "cell_type": "markdown",
   "id": "appreciated-palace",
   "metadata": {},
   "source": [
    "**Problem 4**"
   ]
  },
  {
   "cell_type": "code",
   "execution_count": 27,
   "id": "demonstrated-clone",
   "metadata": {},
   "outputs": [
    {
     "data": {
      "text/plain": [
       "1133978.9695297542"
      ]
     },
     "execution_count": 27,
     "metadata": {},
     "output_type": "execute_result"
    }
   ],
   "source": [
    "Req2 = R2 + 2*R1 + par(3*R1,R1)\n",
    "Req2"
   ]
  },
  {
   "cell_type": "code",
   "execution_count": 28,
   "id": "ranging-synthesis",
   "metadata": {},
   "outputs": [
    {
     "data": {
      "text/plain": [
       "0.0003527402277714856"
      ]
     },
     "execution_count": 28,
     "metadata": {},
     "output_type": "execute_result"
    }
   ],
   "source": [
    "20**2/Req2"
   ]
  },
  {
   "cell_type": "markdown",
   "id": "automotive-control",
   "metadata": {},
   "source": [
    "$\\begin{eqnarray}\n",
    "L_{11} &=& \\frac{n_1^2}{\\mathcal{R}_{eq}} = 0.11 mH \\\\[0.5em]\n",
    "L_{22} &=& \\frac{n_2^2}{\\mathcal{R}_{eq2}} \\\\[0.5em]\n",
    "&=&  \\frac{20^2}{1.13\\cdot10^6 H^{-1}} \\\\[0.5em]\n",
    "&=& 0.35 mH\n",
    "\\end{eqnarray}$\n",
    "\n",
    "<hr>"
   ]
  },
  {
   "cell_type": "markdown",
   "id": "quality-disney",
   "metadata": {},
   "source": [
    "$\\begin{eqnarray}\n",
    "i_1 &=& \\frac{10}{3R_2 + \\left[ R_1\\parallel (2R_1+R_2) \\right]}  \\\\[0.5em]\n",
    "i_2 &=& \\frac{20}{R_2 +  2R_1 + \\left[ 3R_1\\parallel R_1 \\right]}\n",
    "\\end{eqnarray}$\n",
    "\n",
    "<hr>"
   ]
  },
  {
   "cell_type": "markdown",
   "id": "theoretical-rocket",
   "metadata": {},
   "source": [
    "$\\begin{eqnarray}\n",
    "\\Phi &=& n_1 i_1 + n_2 i_2 \\\\[0.5em]\n",
    "\\end{eqnarray}$"
   ]
  },
  {
   "cell_type": "markdown",
   "id": "liquid-advance",
   "metadata": {},
   "source": [
    "<hr>\n",
    "\n",
    "<img src=\"img/TwoWindingTransformer.png\" width=\"600\">\n",
    "\n",
    "<hr>"
   ]
  },
  {
   "cell_type": "code",
   "execution_count": null,
   "id": "unavailable-lawyer",
   "metadata": {},
   "outputs": [],
   "source": []
  }
 ],
 "metadata": {
  "kernelspec": {
   "display_name": "Python 3",
   "language": "python",
   "name": "python3"
  },
  "language_info": {
   "codemirror_mode": {
    "name": "ipython",
    "version": 3
   },
   "file_extension": ".py",
   "mimetype": "text/x-python",
   "name": "python",
   "nbconvert_exporter": "python",
   "pygments_lexer": "ipython3",
   "version": "3.7.9"
  },
  "varInspector": {
   "cols": {
    "lenName": 16,
    "lenType": 16,
    "lenVar": 40
   },
   "kernels_config": {
    "python": {
     "delete_cmd_postfix": "",
     "delete_cmd_prefix": "del ",
     "library": "var_list.py",
     "varRefreshCmd": "print(var_dic_list())"
    },
    "r": {
     "delete_cmd_postfix": ") ",
     "delete_cmd_prefix": "rm(",
     "library": "var_list.r",
     "varRefreshCmd": "cat(var_dic_list()) "
    }
   },
   "types_to_exclude": [
    "module",
    "function",
    "builtin_function_or_method",
    "instance",
    "_Feature"
   ],
   "window_display": false
  }
 },
 "nbformat": 4,
 "nbformat_minor": 5
}
