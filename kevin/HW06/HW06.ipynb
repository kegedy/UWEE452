{
 "cells": [
  {
   "cell_type": "code",
   "execution_count": 1,
   "id": "confidential-despite",
   "metadata": {},
   "outputs": [],
   "source": [
    "# Imports\n",
    "import os\n",
    "import sys\n",
    "import cmath\n",
    "import math\n",
    "import matplotlib.pyplot as plt\n",
    "import matplotlib\n",
    "import numpy as np\n",
    "import pandas as pd\n",
    "import sympy as sp\n",
    "from sympy.utilities.lambdify import lambdify\n",
    "from scipy import signal\n",
    "%matplotlib inline\n",
    "from IPython.core.interactiveshell import InteractiveShell\n",
    "InteractiveShell.ast_node_interactivity = \"all\"\n",
    "from matplotlib.ticker import LogLocator"
   ]
  },
  {
   "cell_type": "code",
   "execution_count": 2,
   "id": "chronic-directory",
   "metadata": {},
   "outputs": [],
   "source": [
    "def par(R1,R2):\n",
    "    return (1/R1 + 1/R2)**-1"
   ]
  },
  {
   "cell_type": "markdown",
   "id": "medium-leisure",
   "metadata": {},
   "source": [
    "**Problem 1**"
   ]
  },
  {
   "cell_type": "markdown",
   "id": "cultural-virgin",
   "metadata": {},
   "source": [
    "$\\begin{eqnarray}\n",
    "\\mathcal{R}_1 &=& \\frac{\\ell _c}{\\mu_0 \\mu_r A_{c_1}} \\\\[0.5em]\n",
    "&=& \\frac{3\\cdot 10^{-2}\\left[m\\right]}{(4\\pi \\cdot 10^{-7})\\left[\\frac{H}{m}\\right] (1000) (10^{-2} \\cdot 10^{-2})\\left[m^2\\right]} \\\\[0.5em]\n",
    "&=& 2.39\\cdot 10^5 H^{-1}\n",
    "\\end{eqnarray}$"
   ]
  },
  {
   "cell_type": "markdown",
   "id": "social-remedy",
   "metadata": {},
   "source": [
    "$\\begin{eqnarray}\n",
    "\\mathcal{R}_2 &=& \\frac{\\ell _c}{\\mu_0 \\mu_r A_{c_2}} \\\\[0.5em]\n",
    "&=& \\frac{3\\cdot 10^{-2}\\left[m\\right]}{(4\\pi \\cdot 10^{-7})\\left[\\frac{H}{m}\\right] (1000) (10^{-2} \\cdot 0.5\\cdot10^{-2})\\left[m^2\\right]} \\\\[0.5em]\n",
    "&=& 4.77\\cdot 10^5 H^{-1}\n",
    "\\end{eqnarray}$"
   ]
  },
  {
   "cell_type": "code",
   "execution_count": 3,
   "id": "banner-geometry",
   "metadata": {},
   "outputs": [],
   "source": [
    "lc = 3E-2\n",
    "mu0 = 4*np.pi*1E-7\n",
    "mur = 1000\n",
    "Ac = 1E-2*1E-2"
   ]
  },
  {
   "cell_type": "code",
   "execution_count": 4,
   "id": "varied-joseph",
   "metadata": {},
   "outputs": [
    {
     "data": {
      "text/plain": [
       "238732.414637843"
      ]
     },
     "execution_count": 4,
     "metadata": {},
     "output_type": "execute_result"
    }
   ],
   "source": [
    "R1 = lc/(mu0*mur*Ac)\n",
    "R1"
   ]
  },
  {
   "cell_type": "code",
   "execution_count": 5,
   "id": "hazardous-principal",
   "metadata": {},
   "outputs": [
    {
     "data": {
      "text/plain": [
       "477464.829275686"
      ]
     },
     "execution_count": 5,
     "metadata": {},
     "output_type": "execute_result"
    }
   ],
   "source": [
    "R2 = lc/(mu0*mur*0.5*Ac)\n",
    "R2"
   ]
  },
  {
   "cell_type": "code",
   "execution_count": 6,
   "id": "stunning-canyon",
   "metadata": {},
   "outputs": [
    {
     "data": {
      "text/plain": [
       "907183.1756238034"
      ]
     },
     "execution_count": 6,
     "metadata": {},
     "output_type": "execute_result"
    }
   ],
   "source": [
    "Req = 3*R1 + par(R1,2*R1 + R2)\n",
    "Req"
   ]
  },
  {
   "cell_type": "markdown",
   "id": "qualified-trance",
   "metadata": {},
   "source": [
    "**Problem 2**"
   ]
  },
  {
   "cell_type": "code",
   "execution_count": 7,
   "id": "legislative-joint",
   "metadata": {},
   "outputs": [
    {
     "data": {
      "text/plain": [
       "0.00011023132117858924"
      ]
     },
     "execution_count": 7,
     "metadata": {},
     "output_type": "execute_result"
    }
   ],
   "source": [
    "10**2/Req"
   ]
  },
  {
   "cell_type": "markdown",
   "id": "mobile-directory",
   "metadata": {},
   "source": [
    "$\\begin{eqnarray}\n",
    "L &=& \\frac{n^2}{\\mathcal{R}_c + \\mathcal{R}_g} = \\frac{n^2}{\\mathcal{R}_{eq}} \\\\[0.5em]\n",
    "\\mathcal{R}_{eq} &=& 3R_2 + \\left[ R_1\\parallel (2R_1+R_2) \\right] =  907183 \\ H^{-1}\\\\[0.5em]\n",
    "&=&  \\frac{10^2}{90.7\\cdot10^5 \\ [H^{-1}]} \\\\[0.5em]\n",
    "&=& 110 \\mu H\n",
    "\\end{eqnarray}$"
   ]
  },
  {
   "cell_type": "markdown",
   "id": "favorite-apparel",
   "metadata": {},
   "source": [
    "**Problem 3**"
   ]
  },
  {
   "cell_type": "markdown",
   "id": "overall-burlington",
   "metadata": {},
   "source": [
    "**Problem 4**"
   ]
  },
  {
   "cell_type": "markdown",
   "id": "confidential-episode",
   "metadata": {},
   "source": [
    "<hr>\n",
    "\n",
    "<img src=\"img/TwoWindingTransformer.png\" width=\"600\">\n",
    "\n",
    "<hr>"
   ]
  },
  {
   "cell_type": "code",
   "execution_count": 8,
   "id": "valuable-peeing",
   "metadata": {},
   "outputs": [
    {
     "data": {
      "text/plain": [
       "1133978.9695297542"
      ]
     },
     "execution_count": 8,
     "metadata": {},
     "output_type": "execute_result"
    }
   ],
   "source": [
    "Req2 = R2 + 2*R1 + par(3*R1,R1)\n",
    "Req2"
   ]
  },
  {
   "cell_type": "code",
   "execution_count": 28,
   "id": "graduate-treasure",
   "metadata": {},
   "outputs": [
    {
     "data": {
      "text/plain": [
       "0.19999999999999998"
      ]
     },
     "execution_count": 28,
     "metadata": {},
     "output_type": "execute_result"
    }
   ],
   "source": [
    "R1/(3*R1 + R2)"
   ]
  },
  {
   "cell_type": "code",
   "execution_count": 9,
   "id": "renewable-canada",
   "metadata": {},
   "outputs": [
    {
     "data": {
      "text/plain": [
       "0.00011023132117858924"
      ]
     },
     "execution_count": 9,
     "metadata": {},
     "output_type": "execute_result"
    }
   ],
   "source": [
    "(10**2)/Req"
   ]
  },
  {
   "cell_type": "code",
   "execution_count": 30,
   "id": "dressed-harrison",
   "metadata": {},
   "outputs": [
    {
     "data": {
      "text/plain": [
       "4.40925284714357e-05"
      ]
     },
     "execution_count": 30,
     "metadata": {},
     "output_type": "execute_result"
    }
   ],
   "source": [
    "0.25*(10*20)/Req2"
   ]
  },
  {
   "cell_type": "code",
   "execution_count": 31,
   "id": "unknown-script",
   "metadata": {},
   "outputs": [
    {
     "data": {
      "text/plain": [
       "4.40925284714357e-05"
      ]
     },
     "execution_count": 31,
     "metadata": {},
     "output_type": "execute_result"
    }
   ],
   "source": [
    "0.2*(10*20)/Req"
   ]
  },
  {
   "cell_type": "markdown",
   "id": "suburban-generator",
   "metadata": {},
   "source": [
    "$\\begin{eqnarray}\n",
    "\\Phi &=& \\Phi_1 + \\Phi_2 \\\\[0.5em]\n",
    "\\Phi_1 &=& \\Phi_{11} [\\text{flux generated from source 1}]  \\\\[0.5em] \n",
    "&+&\\Phi_{12} [\\text{flux in winding 1 due to current from winding 2}] \\\\[0.5em]\n",
    "\\Phi_2 &=& \\Phi_{22} [\\text{flux generated from source 2}] \\\\[0.5em] \n",
    "&+& \\Phi_{21} [\\text{flux in winding 2 due to current from winding 1}] \\\\[0.5em]\n",
    "\\end{eqnarray}$\n",
    "\n",
    "$\\begin{eqnarray}\n",
    "\\mathcal{R}_{eq_1} &=& 3R_2 + \\left[ R_1\\parallel (2R_1+R_2) \\right] \\\\[0.5em]\n",
    "&=& 907183 \\ H^{-1} \\ [\\text{source 1 only}] \\\\[0.5em]\n",
    "\\mathcal{R}_{eq_2} &=& 2R_1 + R_2 + \\left[ 3R_1\\parallel R_1 \\right] \\\\[0.5em]\n",
    "&=&  1133979 \\ H^{-1}\\ [\\text{source 2 only}] \\\\[0.5em]\n",
    "\\end{eqnarray}$\n",
    "\n",
    "<hr>"
   ]
  },
  {
   "cell_type": "markdown",
   "id": "sensitive-movement",
   "metadata": {},
   "source": [
    "**Turn off source 2**\n",
    "\n",
    "$\\begin{eqnarray}\n",
    "\\Phi_{11} &=& \\frac{n_1 i_1}{\\mathcal{R}_{eq_1}} \\\\[0.5em]\n",
    "\\Phi_{21} &=& \\Phi_{11} \\cdot \\frac{R_1}{R_1 + (2R_1 + R_2)} = 0.20\\ \\Phi_{11} \\\\[0.5em]\n",
    "\\end{eqnarray}$\n",
    "\n",
    "<hr>\n",
    "\n",
    "**Turn off source 1**\n",
    "\n",
    "$\\begin{eqnarray}\n",
    "\\Phi_{22} &=& \\frac{n_2 i_2}{\\mathcal{R}_{eq_2}} \\\\[0.5em]\n",
    "\\Phi_{12} &=& \\Phi_{22} \\cdot \\frac{R_1}{R_1 + 3R_1} = 0.25\\ \\Phi_{22}\\\\[0.5em]\n",
    "\\end{eqnarray}$\n",
    "\n",
    "<hr>"
   ]
  },
  {
   "cell_type": "markdown",
   "id": "aboriginal-albania",
   "metadata": {},
   "source": [
    "$\\begin{eqnarray}\n",
    "v_1 &=& n_1\\frac{d}{dt}\\left( \\Phi_{1} \\right) = n_1\\frac{d}{dt}\\left( \\Phi_{11}+\\Phi_{12} \\right)\\\\[0.5em]\n",
    "v_1 &=& n_1\\frac{d}{dt}\\left( \\Phi_{11}\\right) +  n_1\\frac{d}{dt}\\left(\\Phi_{12} \\right) \\\\[0.5em]\n",
    "v_1 &=& n_1\\frac{d}{dt}\\left(\\frac{n_1 i_1}{\\mathcal{R}_{eq_1}}\\right) + n_1\\frac{d}{dt}\\left(0.25 \\frac{n_2 i_2}{\\mathcal{R}_{eq_2}}\\right)\\\\[0.5em]\n",
    "v_1 &=& \\frac{n_1^2}{\\mathcal{R}_{eq_1}}\\frac{d}{dt}(i_1) + 0.25\\frac{n_1 n_2}{\\mathcal{R}_{eq_2}}\\frac{d}{dt}(i_2) \\\\[0.5em]\n",
    "v_1 &=& L_{11}\\frac{d}{dt}(i_1) + L_{12}\\frac{d}{dt}(i_2) \\\\[0.5em]\n",
    "L_{11} &=& \\frac{n_1^2}{\\mathcal{R}_{eq_1}} \\\\[0.5em]\n",
    "L_{11} &=& \\frac{10^2}{907183} = 110 \\mu H \\\\[0.5em]\n",
    "L_{12} &=& 0.25\\frac{n_1 n_2}{\\mathcal{R}_{eq_2}} \\\\[0.5em]\n",
    "L_{12} &=& 0.25 \\left(\\frac{10\\cdot 20}{1133979}\\right) = 44 \\mu H \\\\[0.5em]\n",
    "\\end{eqnarray}$\n",
    "\n",
    "<hr>"
   ]
  },
  {
   "cell_type": "markdown",
   "id": "pretty-rachel",
   "metadata": {},
   "source": [
    "$\\begin{eqnarray}\n",
    "v_2 &=& n_2\\frac{d}{dt}\\left( \\Phi_{2} \\right) = n_2\\frac{d}{dt}\\left( \\Phi_{21}+\\Phi_{22} \\right)\\\\[0.5em]\n",
    "v_2 &=& n_2\\frac{d}{dt}\\left( \\Phi_{21}\\right) +  n_2\\frac{d}{dt}\\left(\\Phi_{22} \\right) \\\\[0.5em]\n",
    "v_2 &=& n_2\\frac{d}{dt}\\left(0.2 \\frac{n_1 i_1}{\\mathcal{R}_{eq_1}}\\right) + n_2\\frac{d}{dt}\\left(\\frac{n_2 i_2}{\\mathcal{R}_{eq_2}}\\right)\\\\[0.5em]\n",
    "v_2 &=& 0.2\\frac{n_1 n_2}{\\mathcal{R}_{eq_1}}\\frac{d}{dt}(i_1) + \\frac{n_2^2}{\\mathcal{R}_{eq_2}}\\frac{d}{dt}(i_2)\\\\[0.5em]\n",
    "v_2 &=& L_{12}\\frac{d}{dt}(i_1) + L_{22}\\frac{d}{dt}(i_2) \\\\[0.5em]\n",
    "L_{12} &=& 0.2\\frac{n_1 n_2}{\\mathcal{R}_{eq_1}} \\\\[0.5em]\n",
    "L_{12} &=& 0.2 \\left(\\frac{10\\cdot 20}{907183}\\right) = 44 \\mu H \\\\[0.5em]\n",
    "L_{22} &=& \\frac{n_2^2}{\\mathcal{R}_{eq_2}} \\\\[0.5em]\n",
    "L_{22} &=& \\frac{20^2}{1133979} = 352 \\mu H \\\\[0.5em]\n",
    "\\end{eqnarray}$\n",
    "\n",
    "<hr>"
   ]
  },
  {
   "cell_type": "code",
   "execution_count": null,
   "id": "handed-plymouth",
   "metadata": {},
   "outputs": [],
   "source": []
  }
 ],
 "metadata": {
  "kernelspec": {
   "display_name": "Python 3",
   "language": "python",
   "name": "python3"
  },
  "language_info": {
   "codemirror_mode": {
    "name": "ipython",
    "version": 3
   },
   "file_extension": ".py",
   "mimetype": "text/x-python",
   "name": "python",
   "nbconvert_exporter": "python",
   "pygments_lexer": "ipython3",
   "version": "3.7.9"
  },
  "varInspector": {
   "cols": {
    "lenName": 16,
    "lenType": 16,
    "lenVar": 40
   },
   "kernels_config": {
    "python": {
     "delete_cmd_postfix": "",
     "delete_cmd_prefix": "del ",
     "library": "var_list.py",
     "varRefreshCmd": "print(var_dic_list())"
    },
    "r": {
     "delete_cmd_postfix": ") ",
     "delete_cmd_prefix": "rm(",
     "library": "var_list.r",
     "varRefreshCmd": "cat(var_dic_list()) "
    }
   },
   "types_to_exclude": [
    "module",
    "function",
    "builtin_function_or_method",
    "instance",
    "_Feature"
   ],
   "window_display": false
  }
 },
 "nbformat": 4,
 "nbformat_minor": 5
}
