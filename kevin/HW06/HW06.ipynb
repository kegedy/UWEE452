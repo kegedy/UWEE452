{
 "cells": [
  {
   "cell_type": "code",
   "execution_count": 1,
   "id": "civic-singing",
   "metadata": {},
   "outputs": [],
   "source": [
    "# Imports\n",
    "import os\n",
    "import sys\n",
    "import cmath\n",
    "import math\n",
    "import matplotlib.pyplot as plt\n",
    "import matplotlib\n",
    "import numpy as np\n",
    "import pandas as pd\n",
    "import sympy as sp\n",
    "from sympy.utilities.lambdify import lambdify\n",
    "from scipy import signal\n",
    "%matplotlib inline\n",
    "from IPython.core.interactiveshell import InteractiveShell\n",
    "InteractiveShell.ast_node_interactivity = \"all\"\n",
    "from matplotlib.ticker import LogLocator"
   ]
  },
  {
   "cell_type": "code",
   "execution_count": 17,
   "id": "infectious-workstation",
   "metadata": {},
   "outputs": [],
   "source": [
    "def par(R1,R2):\n",
    "    return (1/R1 + 1/R2)**-1"
   ]
  },
  {
   "cell_type": "markdown",
   "id": "packed-binding",
   "metadata": {},
   "source": [
    "**Problem 1**"
   ]
  },
  {
   "cell_type": "markdown",
   "id": "detailed-calvin",
   "metadata": {},
   "source": [
    "$\\begin{eqnarray}\n",
    "\\mathcal{R}_c &=& \\frac{\\ell _c}{\\mu_0 \\mu_r A_c} \\\\[0.5em]\n",
    "&=& \\frac{3\\cdot 10^{-2}m}{(4\\pi \\cdot 10^{-7} \\frac{H}{m}) (1000) (10^{-2}m \\cdot 10^{-2}m)} \\\\[0.5em]\n",
    "&=& 2.39\\cdot 10^5 H^{-1}\n",
    "\\end{eqnarray}$"
   ]
  },
  {
   "cell_type": "markdown",
   "id": "olympic-luxembourg",
   "metadata": {},
   "source": [
    "$\\begin{eqnarray}\n",
    "\\mathcal{R}_c &=& \\frac{\\ell _c}{\\mu_0 \\mu_r A_c} \\\\[0.5em]\n",
    "&=& \\frac{3\\cdot 10^{-2}m}{(4\\pi \\cdot 10^{-7} \\frac{H}{m}) (1000) (10^{-2}m \\cdot 0.5\\cdot10^{-2}m)} \\\\[0.5em]\n",
    "&=& 4.77\\cdot 10^5 H^{-1}\n",
    "\\end{eqnarray}$"
   ]
  },
  {
   "cell_type": "code",
   "execution_count": 10,
   "id": "comprehensive-venue",
   "metadata": {},
   "outputs": [],
   "source": [
    "lc = 3E-2\n",
    "mu0 = 4*np.pi*1E-7\n",
    "mur = 1000\n",
    "Ac = 1E-2*1E-2"
   ]
  },
  {
   "cell_type": "code",
   "execution_count": 14,
   "id": "moving-conviction",
   "metadata": {},
   "outputs": [
    {
     "data": {
      "text/plain": [
       "238732.414637843"
      ]
     },
     "execution_count": 14,
     "metadata": {},
     "output_type": "execute_result"
    }
   ],
   "source": [
    "R1 = lc/(mu0*mur*Ac)\n",
    "R1"
   ]
  },
  {
   "cell_type": "code",
   "execution_count": 15,
   "id": "announced-simulation",
   "metadata": {},
   "outputs": [
    {
     "data": {
      "text/plain": [
       "477464.829275686"
      ]
     },
     "execution_count": 15,
     "metadata": {},
     "output_type": "execute_result"
    }
   ],
   "source": [
    "R2 = lc/(mu0*mur*0.5*Ac)\n",
    "R2"
   ]
  },
  {
   "cell_type": "code",
   "execution_count": 16,
   "id": "super-reaction",
   "metadata": {},
   "outputs": [
    {
     "data": {
      "text/plain": [
       "954929.658551372"
      ]
     },
     "execution_count": 16,
     "metadata": {},
     "output_type": "execute_result"
    }
   ],
   "source": [
    "2*R1 + R2"
   ]
  },
  {
   "cell_type": "code",
   "execution_count": 21,
   "id": "synthetic-signature",
   "metadata": {},
   "outputs": [
    {
     "data": {
      "text/plain": [
       "907183.1756238034"
      ]
     },
     "execution_count": 21,
     "metadata": {},
     "output_type": "execute_result"
    }
   ],
   "source": [
    "Req = 3*R1 + par(R1,2*R1 + R2)\n",
    "Req"
   ]
  },
  {
   "cell_type": "markdown",
   "id": "identified-holocaust",
   "metadata": {},
   "source": [
    "**Problem 2**"
   ]
  },
  {
   "cell_type": "code",
   "execution_count": 22,
   "id": "active-compensation",
   "metadata": {},
   "outputs": [
    {
     "data": {
      "text/plain": [
       "0.00011023132117858924"
      ]
     },
     "execution_count": 22,
     "metadata": {},
     "output_type": "execute_result"
    }
   ],
   "source": [
    "10**2/Req"
   ]
  },
  {
   "cell_type": "markdown",
   "id": "alpha-defensive",
   "metadata": {},
   "source": [
    "$\\begin{eqnarray}\n",
    "L &=& \\frac{n^2}{\\mathcal{R}_c + \\mathcal{R}_g} \\\\[0.5em]\n",
    "&=& \\frac{n^2}{\\mathcal{R}_{eq}} \\\\[0.5em]\n",
    "&=&  \\frac{10^2}{90.6\\cdot10^5 H^{-1}} \\\\[0.5em]\n",
    "&=& 0.11 mH\n",
    "\\end{eqnarray}$"
   ]
  },
  {
   "cell_type": "markdown",
   "id": "classified-bouquet",
   "metadata": {},
   "source": [
    "**Problem 3**"
   ]
  },
  {
   "cell_type": "code",
   "execution_count": 24,
   "id": "manual-appeal",
   "metadata": {},
   "outputs": [
    {
     "data": {
      "text/plain": [
       "0.14884233737596472"
      ]
     },
     "execution_count": 24,
     "metadata": {},
     "output_type": "execute_result"
    }
   ],
   "source": [
    "13.5/90.7"
   ]
  },
  {
   "cell_type": "code",
   "execution_count": null,
   "id": "hollow-shoulder",
   "metadata": {},
   "outputs": [],
   "source": []
  }
 ],
 "metadata": {
  "kernelspec": {
   "display_name": "Python 3",
   "language": "python",
   "name": "python3"
  },
  "language_info": {
   "codemirror_mode": {
    "name": "ipython",
    "version": 3
   },
   "file_extension": ".py",
   "mimetype": "text/x-python",
   "name": "python",
   "nbconvert_exporter": "python",
   "pygments_lexer": "ipython3",
   "version": "3.7.9"
  },
  "varInspector": {
   "cols": {
    "lenName": 16,
    "lenType": 16,
    "lenVar": 40
   },
   "kernels_config": {
    "python": {
     "delete_cmd_postfix": "",
     "delete_cmd_prefix": "del ",
     "library": "var_list.py",
     "varRefreshCmd": "print(var_dic_list())"
    },
    "r": {
     "delete_cmd_postfix": ") ",
     "delete_cmd_prefix": "rm(",
     "library": "var_list.r",
     "varRefreshCmd": "cat(var_dic_list()) "
    }
   },
   "types_to_exclude": [
    "module",
    "function",
    "builtin_function_or_method",
    "instance",
    "_Feature"
   ],
   "window_display": false
  }
 },
 "nbformat": 4,
 "nbformat_minor": 5
}
