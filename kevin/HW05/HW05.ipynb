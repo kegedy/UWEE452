{
 "cells": [
  {
   "cell_type": "code",
   "execution_count": 1,
   "id": "eastern-living",
   "metadata": {},
   "outputs": [],
   "source": [
    "# Imports\n",
    "import os\n",
    "import sys\n",
    "import cmath\n",
    "import math\n",
    "import matplotlib.pyplot as plt\n",
    "import matplotlib\n",
    "import numpy as np\n",
    "import pandas as pd\n",
    "import sympy as sp\n",
    "from sympy.utilities.lambdify import lambdify\n",
    "from scipy import signal\n",
    "%matplotlib inline\n",
    "from IPython.core.interactiveshell import InteractiveShell\n",
    "InteractiveShell.ast_node_interactivity = \"all\"\n",
    "from matplotlib.ticker import LogLocator"
   ]
  },
  {
   "cell_type": "markdown",
   "id": "sublime-conditioning",
   "metadata": {},
   "source": [
    "**Problem 1**\n",
    "\n",
    "<img src=\"img/TransistorWaveforms.png\" width=\"250\"> \n",
    "\n",
    "<hr>"
   ]
  },
  {
   "cell_type": "markdown",
   "id": "cheap-final",
   "metadata": {},
   "source": [
    "**Output Voltage**\n",
    "\n",
    "Switch $[0<t<DT_s]$\n",
    "\n",
    "$\\begin{eqnarray}\n",
    "0 &=& V_g - v_L - I_L R_L\\\\[0.25em]\n",
    "v_L &=& V_g - I_L R_L\\\\[0.25em]\n",
    "\\end{eqnarray}$\n",
    "\n",
    "<hr>\n",
    "\n",
    "Switch $[DT_s<t<T_s]$\n",
    "\n",
    "$\\begin{eqnarray}\n",
    "0 &=& I_L R_L + v_L - v \\\\[0.25em]\n",
    "v_L &=& v -I_L R_L \\\\[0.25em]\n",
    "\\end{eqnarray}$\n",
    "\n",
    "<hr>\n",
    "\n",
    "Total Volt Seconds over 1 period for Inductor Voltage\n",
    "\n",
    "$\\begin{eqnarray}\n",
    "<v_L> &=& \\int_{o}^{T_S} v_L(t) dt \\\\[0.25em]\n",
    "0 &=& D (V_g - IR_L) + D' (V-IR_L) \\\\[0.25em]\n",
    "0 &=& D V_g - IR_L + D' V  && [\\text{Equivalent Voltage Circuit}] \\\\[0.25em]\n",
    "\\end{eqnarray}$\n",
    "\n",
    "<hr>"
   ]
  },
  {
   "cell_type": "markdown",
   "id": "ahead-usage",
   "metadata": {},
   "source": [
    "**Capacitor Current**\n",
    "\n",
    "Switch $[0<t<DT_s]$\n",
    "\n",
    "$\\begin{eqnarray}\n",
    "i_C &=& -i_D - \\frac{v}{R} \\\\[0.25em]\n",
    "\\end{eqnarray}$\n",
    "\n",
    "<hr>\n",
    "\n",
    "Switch $[DT_s<t<T_s]$\n",
    "\n",
    "$\\begin{eqnarray}\n",
    "i_C &=& -i_D - \\frac{v}{R} \\\\[0.25em]\n",
    "\\end{eqnarray}$\n",
    "\n",
    "<hr>\n",
    "\n",
    "Diode Reverse Recovery $[i_D]$\n",
    "\n",
    "$\\begin{eqnarray}\n",
    "<i_D> &=& \\int_{o}^{T_S} i_D(t) dt \\\\[0.25em]\n",
    "i_D &=& D(0) + D'(I_L) - \\text{Reverse Recovery} \\\\[0.25em]\n",
    "i_D &=& D'I_L - \\frac{Q_R}{T_s} - \\frac{t_r I_L}{T_s}\n",
    "\\end{eqnarray}$\n",
    "\n",
    "<hr>\n",
    "\n",
    "\n",
    "Total Charge Balance over 1 period for Capacitor Current $I$\n",
    "\n",
    "$\\begin{eqnarray}\n",
    "<i_C> &=& \\int_{o}^{T_S} i_C(t) dt \\\\[0.25em]\n",
    "0 &=& D (-i_D - \\frac{-V}{R}) + D'(-i_D - \\frac{V}{R}) \\\\[0.25em]\n",
    "0 &=& \\frac{-V}{R} -i_D \\\\[0.25em]\n",
    "0 &=& \\frac{-V}{R}- D'I_L  - \\left(-\\frac{Q_R}{T_s} - \\frac{t_r I_L}{T_s}\\right) \\\\[0.25em]\n",
    "0 &=& - D'I_L  +\\frac{Q_R}{T_s} + \\frac{t_r I_L}{T_s} -\\frac{V}{R}\\\\[0.25em]\n",
    "0 &=& D'I_L  -\\frac{Q_R}{T_s} - \\frac{t_r I_L}{T_s} +\\frac{V}{R} && [\\text{Equivalent Current Circuit}] \\\\[0.25em]\n",
    "\\end{eqnarray}$\n",
    "\n",
    "<hr>"
   ]
  },
  {
   "cell_type": "markdown",
   "id": "alpine-compromise",
   "metadata": {},
   "source": [
    "**Transistor Current**\n",
    "\n",
    "$\\begin{eqnarray}\n",
    "<i_t> &=& \\int_{o}^{T_S} i_t(t) dt \\\\[0.25em]\n",
    "&=& D(I_L) + \\text{Reverse Recovery} + D'(0) \\\\[0.25em]\n",
    "&=& D(I_L) + \\frac{Q_R}{T_s} + \\frac{t_r I_L}{T_s} + D'(0) \\\\[0.25em]\n",
    "&=& D I_L + \\frac{Q_R}{T_s} + \\frac{t_r I_L}{T_s}  \\\\[0.25em]\n",
    "\\end{eqnarray}$"
   ]
  },
  {
   "cell_type": "markdown",
   "id": "celtic-martial",
   "metadata": {},
   "source": [
    "**Problem 2**"
   ]
  },
  {
   "cell_type": "markdown",
   "id": "assured-interest",
   "metadata": {},
   "source": [
    "Switch $[0<t<DT_s]$\n",
    "\n",
    "$\\begin{eqnarray}\n",
    "\\frac{di_L}{dt} &=& \\frac{V_g}{L} && [i_L \\text{ slope}] \\\\[0.25em]\n",
    "\\end{eqnarray}$\n",
    "\n",
    "<hr>\n",
    "\n",
    "Switch $[DT_s<t<T_s]$\n",
    "\n",
    "$\\begin{eqnarray}\n",
    "\\frac{di_L}{dt} &=& \\frac{V}{L} && [i_L \\text{ slope}] \\\\[0.25em]\n",
    "\\end{eqnarray}$\n",
    "\n",
    "<hr>"
   ]
  },
  {
   "cell_type": "markdown",
   "id": "unnecessary-connection",
   "metadata": {},
   "source": [
    "Switch $[0<t<DT_s]$\n",
    "\n",
    "$\\begin{eqnarray}\n",
    "i_C &=& -\\frac{V}{R}\\\\[0.25em]\n",
    "\\end{eqnarray}$\n",
    "\n",
    "<hr>\n",
    "\n",
    "Switch $[DT_s<t<T_s]$\n",
    "\n",
    "$\\begin{eqnarray}\n",
    "i_C &=& -I - \\frac{V}{R} \\\\[0.25em]\n",
    "\\end{eqnarray}$\n",
    "\n",
    "<hr>\n",
    "\n",
    "Total Charge Balance over 1 period for Capacitor Current $I$\n",
    "\n",
    "$\\begin{eqnarray}\n",
    "I &=& V_g\\frac{D}{D'D'R}  && [\\text{Inductor Current }I] \\\\[0.25em]\n",
    "\\end{eqnarray}$\n",
    "\n",
    "<hr>"
   ]
  },
  {
   "cell_type": "markdown",
   "id": "foster-coalition",
   "metadata": {},
   "source": [
    "**Ripple**\n",
    "\n",
    "$\\begin{eqnarray}\n",
    "2\\Delta i &=& (i_L \\ \\text{slope})\\cdot D T_s \\\\[0.5em]\n",
    "\\Delta i &=& \\frac{V_g}{2L}\\cdot D T_s \\\\[0.5em]\n",
    "\\end{eqnarray}$\n",
    "\n",
    "<hr>\n",
    "\n",
    "**DCM**\n",
    "\n",
    "$\\begin{eqnarray}\n",
    "I_L &\\lt& \\Delta i \\\\[0.5em]\n",
    "V_g\\frac{D}{D'D'R} &\\lt& \\frac{V_g}{2L}\\cdot D T_s \\\\[0.5em]\n",
    "\\frac{1}{D'D'R} &\\lt& \\frac{1}{2L}\\cdot T_s \\\\[0.5em]\n",
    "\\frac{2L}{RT_s} &\\lt& D'D'  \\\\[0.5em]\n",
    "K &=& \\frac{2L}{RT_s} \\\\[0.5em]\n",
    "K_{crit} &=& D' D' = D'^2 \\\\[0.5em]\n",
    "\\end{eqnarray}$\n",
    "\n",
    "<hr>"
   ]
  },
  {
   "cell_type": "markdown",
   "id": "small-going",
   "metadata": {},
   "source": [
    "**Output Voltage**\n",
    "\n",
    "Switch $[0<t<D_1T_s]$\n",
    "\n",
    "$\\begin{eqnarray}\n",
    "0 &=& V_g - v_L \\\\[0.25em]\n",
    "v_L &=& V_g\\\\[0.25em]\n",
    "\\end{eqnarray}$\n",
    "\n",
    "<hr>\n",
    "\n",
    "Switch $[D_1T_s<t<(D_1 + D_2)T_s]$\n",
    "\n",
    "$\\begin{eqnarray}\n",
    "0 &=& v_L - v \\\\[0.25em]\n",
    "v_L &=& v \\\\[0.25em]\n",
    "\\end{eqnarray}$\n",
    "\n",
    "<hr>\n",
    "\n",
    "Switch $[(D_1 + D_2)T_s<t<T_s]$\n",
    "\n",
    "$\\begin{eqnarray}\n",
    "v_L &=& 0 \\\\[0.25em]\n",
    "\\end{eqnarray}$\n",
    "\n",
    "<hr>\n",
    "\n",
    "Total Volt Seconds over 1 period for Inductor Voltage\n",
    "\n",
    "$\\begin{eqnarray}\n",
    "<v_L> &=& \\int_{o}^{T_S} v_L(t) dt \\\\[0.25em]\n",
    "0 &=& D_1 (V_g) + D_2 (V) + D_3 (0) \\\\[0.25em]\n",
    "V &=& \\frac{-D_1 V_g}{D_2}  && [\\text{Output Voltage}] \\\\[0.25em]\n",
    "D_2 &=& \\frac{-D_1 V_g}{V} && [\\text{Solve in terms of }D_1] \\\\[0.25em]\n",
    "\\end{eqnarray}$\n",
    "\n",
    "<hr>"
   ]
  },
  {
   "cell_type": "markdown",
   "id": "hispanic-marker",
   "metadata": {},
   "source": [
    "**Capacitor Charge Balance**\n",
    "\n",
    "$\\begin{eqnarray}\n",
    "i_D &=& \\left. i_C + \\frac{v}{R}\\ \\right\\vert_{ i_C=0} \\\\[0.25em]\n",
    "i_D &=& \\frac{V}{R}\n",
    "\\end{eqnarray}$\n",
    "\n",
    "<hr>"
   ]
  },
  {
   "cell_type": "markdown",
   "id": "spatial-desktop",
   "metadata": {},
   "source": [
    "Peak Current:\n",
    "\n",
    "$\\begin{eqnarray}\n",
    "i_D(D_1 T_s) &=& i_{pk} = \\frac{V_g}{L}D_1 T_s \\\\[0.25em]\n",
    "\\end{eqnarray}$\n",
    "\n",
    "<hr>\n",
    "\n",
    "Average Current:\n",
    "\n",
    "$\\begin{eqnarray}\n",
    "<i_D> &=& \\frac{1}{T_s} \\int_{o}^{T_S} i_D(t) dt  \\\\[0.25em]\n",
    "&=& \\frac{1}{T_s}\\cdot \\frac{1}{2} i_{pk} D_2 T_s \\\\[0.25em]\n",
    "&=& \\frac{1}{T_s} \\frac{1}{2} \\left(\\frac{V_g}{L}D_1 T_s\\right) D_2 T_s \\\\[0.25em]\n",
    "&=& \\frac{V_g}{2L} D_1  D_2 T_s \\\\[0.25em]\n",
    "\\end{eqnarray}$\n",
    "\n",
    "<hr>"
   ]
  },
  {
   "cell_type": "markdown",
   "id": "passing-scenario",
   "metadata": {},
   "source": [
    "Solve in terms of $D_1$\n",
    "\n",
    "$\\begin{eqnarray}\n",
    "V &=& \\frac{-D_1 V_g}{D_2} \\\\[0.25em]\n",
    "D_2 &=& \\frac{-D_1 V_g}{V} \\\\[0.25em]\n",
    "\\end{eqnarray}$\n",
    "\n",
    "<hr>\n",
    "\n",
    "Thus\n",
    "\n",
    "$\\begin{eqnarray}\n",
    "<i_D> &=& \\frac{V_g}{2L} D_1  D_2 T_s \\\\[0.25em]\n",
    "\\frac{V}{R} &=& \\frac{V_g}{2L} D_1  \\left(\\frac{-D_1 V_g}{V} \\right) T_s \\\\[0.25em]\n",
    "\\frac{V}{R} &=& -\\frac{D_1^2 V_g^2}{2L\\cdot V} T_s \\\\[0.25em]\n",
    "\\left[ \\frac{V}{R} \\right] \\frac{2L\\cdot V}{T_s} &=& \\left[-\\frac{D_1^2 V_g^2}{2L\\cdot V} T_s \\right] \\frac{2L\\cdot V}{T_s} \\\\[0.25em]\n",
    "V^2\\frac{2L}{RT_s} &=&  - D_1^2 V_g^2 \\\\[0.25em]\n",
    "V^2 K &=& -D_1^2 V_g^2 \\\\[0.25em]\n",
    "\\frac{V^2}{V_g^2} &=& -\\frac{D_1^2}{K} \\\\[0.25em]\n",
    "\\frac{V}{V_g} &=& -\\frac{D_1}{\\sqrt{K}} \\\\[0.25em]\n",
    "\\frac{V}{V_g} &=& -D_1 \\cdot {\\sqrt{\\frac{RT_s}{2L}}}\n",
    "\\end{eqnarray}$"
   ]
  },
  {
   "cell_type": "code",
   "execution_count": 13,
   "id": "brutal-gambling",
   "metadata": {},
   "outputs": [],
   "source": [
    "D1 = np.linspace(0,1,101)\n",
    "K = 0.1"
   ]
  },
  {
   "cell_type": "code",
   "execution_count": 16,
   "id": "italian-outreach",
   "metadata": {},
   "outputs": [
    {
     "name": "stderr",
     "output_type": "stream",
     "text": [
      "No handles with labels found to put in legend.\n"
     ]
    },
    {
     "data": {
      "image/png": "[encoded data removed]",
      "text/plain": [
       "<Figure size 720x360 with 1 Axes>"
      ]
     },
     "metadata": {
      "needs_background": "light"
     },
     "output_type": "display_data"
    }
   ],
   "source": [
    "fig, ax = plt.subplots(figsize=(10,5))\n",
    "ax.set_title('DCM Buck Boost Converter at $K = 0.1$')\n",
    "ax.plot(D1,-D1/np.sqrt(K))\n",
    "ax.set_ylabel('DC Conversion Ratio M(D)')\n",
    "ax.set_xlabel('Duty Cycle')\n",
    "ax.grid(which='both', axis='both')\n",
    "ax.legend()\n",
    "plt.show();"
   ]
  },
  {
   "cell_type": "code",
   "execution_count": null,
   "id": "liquid-short",
   "metadata": {},
   "outputs": [],
   "source": []
  }
 ],
 "metadata": {
  "kernelspec": {
   "display_name": "Python 3",
   "language": "python",
   "name": "python3"
  },
  "language_info": {
   "codemirror_mode": {
    "name": "ipython",
    "version": 3
   },
   "file_extension": ".py",
   "mimetype": "text/x-python",
   "name": "python",
   "nbconvert_exporter": "python",
   "pygments_lexer": "ipython3",
   "version": "3.7.9"
  },
  "varInspector": {
   "cols": {
    "lenName": 16,
    "lenType": 16,
    "lenVar": 40
   },
   "kernels_config": {
    "python": {
     "delete_cmd_postfix": "",
     "delete_cmd_prefix": "del ",
     "library": "var_list.py",
     "varRefreshCmd": "print(var_dic_list())"
    },
    "r": {
     "delete_cmd_postfix": ") ",
     "delete_cmd_prefix": "rm(",
     "library": "var_list.r",
     "varRefreshCmd": "cat(var_dic_list()) "
    }
   },
   "types_to_exclude": [
    "module",
    "function",
    "builtin_function_or_method",
    "instance",
    "_Feature"
   ],
   "window_display": false
  }
 },
 "nbformat": 4,
 "nbformat_minor": 5
}
