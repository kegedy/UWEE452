{
 "cells": [
  {
   "cell_type": "code",
   "execution_count": 1,
   "id": "manual-gnome",
   "metadata": {},
   "outputs": [],
   "source": [
    "# Imports\n",
    "import os\n",
    "import sys\n",
    "import cmath\n",
    "import math\n",
    "import matplotlib.pyplot as plt\n",
    "import matplotlib\n",
    "import numpy as np\n",
    "import pandas as pd\n",
    "import sympy as sp\n",
    "from sympy.utilities.lambdify import lambdify\n",
    "from scipy import signal\n",
    "%matplotlib inline\n",
    "from IPython.core.interactiveshell import InteractiveShell\n",
    "InteractiveShell.ast_node_interactivity = \"all\"\n",
    "from matplotlib.ticker import LogLocator"
   ]
  },
  {
   "cell_type": "markdown",
   "id": "dying-particular",
   "metadata": {},
   "source": [
    "**Volt Seconds**"
   ]
  },
  {
   "cell_type": "markdown",
   "id": "potential-citation",
   "metadata": {},
   "source": [
    "Switch $[0<t<DT_s]$\n",
    "\n",
    "$\\begin{eqnarray}\n",
    "0 &=& V_g - v_L - v\\\\[0.5em]\n",
    "v_L &=& V_g - v \\\\[0.5em]\n",
    "\\frac{di_L}{dt} &=& \\frac{V_g-v}{L} && [i_L \\text{ slope}] \\\\[0.5em]\n",
    "\\end{eqnarray}$\n",
    "\n",
    "<hr>\n",
    "\n",
    "Switch $[DT_s<t<T_s]$\n",
    "\n",
    "$\\begin{eqnarray}\n",
    "0 &=& -v_L -v \\\\[0.5em]\n",
    "v_L &=& -v \\\\[0.5em]\n",
    "\\frac{di_L}{dt} &=& \\frac{-v}{L} && [i_L \\text{ slope}] \\\\[0.5em]\n",
    "\\end{eqnarray}$\n",
    "\n",
    "<hr>\n",
    "\n",
    "$\\begin{eqnarray}\n",
    "<v_L> &=& \\int_{o}^{T_S} i_C(t) dt \\\\[0.5em]\n",
    "0 &=& D T_S \\cdot (V_g-V) + D' T_S \\cdot (-V) \\\\[0.5em]\n",
    "0 &=& D V_g -V \\\\[0.5em]\n",
    "V &=& D V_g \\\\[0.5em]\n",
    "\\frac{V}{V_g} &=& D\n",
    "\\end{eqnarray}$\n",
    "\n",
    "<hr>\n",
    "\n",
    "$\\begin{eqnarray}\n",
    "D &=& \\frac{V}{V_g} = \\frac{20}{40} = 0.5\n",
    "\\end{eqnarray}$"
   ]
  },
  {
   "cell_type": "markdown",
   "id": "extreme-assembly",
   "metadata": {},
   "source": [
    "**Charge Balance**"
   ]
  },
  {
   "cell_type": "markdown",
   "id": "agricultural-facing",
   "metadata": {},
   "source": [
    "Switch $[0<t<DT_s]$\n",
    "\n",
    "$\\begin{eqnarray}\n",
    "i_C &=& i_L-\\frac{v}{R}\\\\[0.5em]\n",
    "\\end{eqnarray}$\n",
    "\n",
    "<hr>\n",
    "\n",
    "Switch $[DT_s<t<T_s]$\n",
    "\n",
    "$\\begin{eqnarray}\n",
    "i_C &=& i_L-\\frac{v}{R}\\\\[0.5em]\n",
    "\\end{eqnarray}$\n",
    "\n",
    "<hr>\n",
    "\n",
    "\n",
    "$\\begin{eqnarray}\n",
    "<i_C> &=& \\int_{o}^{T_S} i_C(t) dt \\\\[0.5em]\n",
    "0 &=& D T_S \\cdot (I-\\frac{V}{R}) + D' T_S \\cdot (I - \\frac{V}{R}) \\\\[0.5em]\n",
    "I &=& \\frac{V}{R} \\\\[0.5em]\n",
    "I &\\leq& \\frac{20}{4} \\\\[0.5em]\n",
    "I &\\leq& 5A \\\\[0.5em]\n",
    "\\end{eqnarray}$"
   ]
  },
  {
   "cell_type": "markdown",
   "id": "historic-indian",
   "metadata": {},
   "source": [
    "**Output filter inductance L**"
   ]
  },
  {
   "cell_type": "markdown",
   "id": "dramatic-scottish",
   "metadata": {},
   "source": [
    "$\\begin{eqnarray}\n",
    "\\Delta i_L &=& 0.1 \\ (5) = 0.5A \\\\[0.5em]\n",
    "v_L &=& L\\frac{2\\Delta i_L}{\\Delta t} \\\\[0.5em]\n",
    "L &=& \\frac{v_L \\Delta t}{2\\Delta i_L}  \\\\[0.5em]\n",
    " &=& \\frac{V D' T_s}{2 \\Delta i_L}  \\\\[0.5em]\n",
    " &=& \\frac{V D'}{2\\Delta i_L\\cdot f_s}  \\\\[0.5em]\n",
    " &=& \\frac{24 \\cdot 0.5}{2 \\cdot 0.5 \\cdot 50\\cdot10^3}  \\\\[0.5em]\n",
    " &=& 0.2 mH\n",
    "\\end{eqnarray}$"
   ]
  },
  {
   "cell_type": "markdown",
   "id": "qualified-procurement",
   "metadata": {},
   "source": [
    "**Imax**"
   ]
  },
  {
   "cell_type": "markdown",
   "id": "ready-necessity",
   "metadata": {},
   "source": [
    "$\\begin{eqnarray}\n",
    "i_{safety} &=& 0.15 \\ (I + \\Delta i_L) \\\\[0.5em]\n",
    "I_{max} &=& I + \\Delta i_L + i_{safety} \\\\[0.5em]\n",
    "I_{max} &=& 1.15 \\ (I + \\Delta i_L) \\\\[0.5em]\n",
    "I_{max} &=& 1.15 \\ (5 + 0.5) \\\\[0.5em]\n",
    "I_{max} &=& 6.325 A\\\\[0.5em]\n",
    "\\end{eqnarray}$"
   ]
  },
  {
   "cell_type": "markdown",
   "id": "final-symposium",
   "metadata": {},
   "source": [
    "**Inductor Design**"
   ]
  },
  {
   "cell_type": "markdown",
   "id": "auburn-starter",
   "metadata": {},
   "source": [
    "Determine Inductor Resistance based on the copper power loss requirements\n",
    "\n",
    "$\\begin{eqnarray}\n",
    "I_{L} &=& 5A \\\\[0.5em]\n",
    "P_{cu} &=& I^2_{rms} R \\leq 1W \\\\[0.5em]\n",
    "R &\\leq& \\frac{P_{cu}}{I^2_{AVG}} \\\\[0.5em]\n",
    "R &\\leq& \\frac{1}{5^2} \\\\[0.5em]\n",
    "R &\\leq& 0.04 \\Omega = 40 m\\Omega \\\\[0.5em]\n",
    "\\end{eqnarray}$\n",
    "\n",
    "<hr>"
   ]
  },
  {
   "cell_type": "markdown",
   "id": "czech-acrobat",
   "metadata": {},
   "source": [
    "$\\begin{eqnarray}\n",
    "\\rho &=& 2.3 \\cdot 10^{-6} \\\\[0.5em]\n",
    "L &=& 0.2 \\cdot 10^{-3} \\\\[0.5em]\n",
    "I_{max} &=& 6.325 \\\\[0.5em]\n",
    "B_{max} &=& 0.25 \\\\[0.5em]\n",
    "R  &=& 0.04 \\\\[0.5em]\n",
    "K_u &=& 0.5 \\\\[0.5em]\n",
    "\\end{eqnarray}$\n",
    "\n",
    "<hr>"
   ]
  },
  {
   "cell_type": "code",
   "execution_count": 2,
   "id": "complicated-expansion",
   "metadata": {},
   "outputs": [],
   "source": [
    "rho = 2.3E-6\n",
    "L = 0.2E-3\n",
    "Imax = 6.325\n",
    "Bmax = 0.25\n",
    "R = 0.04\n",
    "Ku = 0.5"
   ]
  },
  {
   "cell_type": "code",
   "execution_count": 3,
   "id": "official-trademark",
   "metadata": {},
   "outputs": [
    {
     "data": {
      "text/plain": [
       "0.2944414"
      ]
     },
     "execution_count": 3,
     "metadata": {},
     "output_type": "execute_result"
    }
   ],
   "source": [
    "(rho*(L**2)*(Imax**2))/((0.25**2)*(0.04)*(0.5))*1E8"
   ]
  },
  {
   "cell_type": "markdown",
   "id": "inner-benchmark",
   "metadata": {},
   "source": [
    "Use $\\rho$ at 100C\n",
    "\n",
    "$\\begin{eqnarray}\n",
    "K_g &\\geq& \\frac{\\rho L^2 I^2_{max}}{B^2_{max} R K_u} 10^8\\\\[0.5em]\n",
    "K_g &\\geq& \\frac{(2.3 \\cdot 10^{-6}) \\ (0.2 \\cdot 10^{-3})^2 \\ (6.325^2)}{(0.25^2) \\ (0.04) \\ (0.5)} 10^8 \\\\[0.5em]\n",
    "K_g &\\geq& 0.29 \\ (cm^5) \\\\[0.5em]\n",
    "\\end{eqnarray}$"
   ]
  },
  {
   "cell_type": "markdown",
   "id": "creative-guidance",
   "metadata": {},
   "source": [
    "**Air Gap**"
   ]
  },
  {
   "cell_type": "markdown",
   "id": "sorted-property",
   "metadata": {},
   "source": [
    "$\\begin{eqnarray}\n",
    "l_g &=& \\left( \\frac{u_0 \\ L \\ I^2_{max}}{B^2_{max} \\ A_c} \\right)10^4 \\\\[0.5em]\n",
    "l_g &=& \\left( \\frac{(4\\pi \\cdot 10^{-7}) \\ (0.2\\cdot10^{-3}) \\ (6.325^2)}{(0.25^2) \\ (2.26)} \\right) 10^4 \\\\[0.5em]\n",
    "l_g &=& 0.00071 \\ m = 0.071 \\ cm \n",
    "\\end{eqnarray}$"
   ]
  },
  {
   "cell_type": "code",
   "execution_count": 4,
   "id": "double-large",
   "metadata": {},
   "outputs": [],
   "source": [
    "u0 = 4*np.pi*1E-7\n",
    "Ac = 2.26"
   ]
  },
  {
   "cell_type": "code",
   "execution_count": 10,
   "id": "starting-monthly",
   "metadata": {},
   "outputs": [
    {
     "data": {
      "text/plain": [
       "0.0007118237315526695"
      ]
     },
     "execution_count": 10,
     "metadata": {},
     "output_type": "execute_result"
    }
   ],
   "source": [
    "lg = (u0*L*Imax**2)/(Ac*Bmax**2) * 1E4\n",
    "lg"
   ]
  },
  {
   "cell_type": "markdown",
   "id": "brown-criticism",
   "metadata": {},
   "source": [
    "**Number of Turns**"
   ]
  },
  {
   "cell_type": "markdown",
   "id": "approved-miracle",
   "metadata": {},
   "source": [
    "$\\begin{eqnarray}\n",
    "n &=& \\left( \\frac{L \\ I_{max}}{B_{max} \\ A_c} \\right) 10^4 \\\\[0.5em]\n",
    "n &=& \\left( \\frac{(0.2\\cdot10^{-3}) \\ (6.325)}{(0.25) \\ (2.26)} \\right) 10^4 \\\\[0.5em]\n",
    "n &=& 23 \\text{ turns}\\\\[0.5em]\n",
    "\\end{eqnarray}$"
   ]
  },
  {
   "cell_type": "code",
   "execution_count": 6,
   "id": "working-internship",
   "metadata": {},
   "outputs": [
    {
     "data": {
      "text/plain": [
       "23.0"
      ]
     },
     "execution_count": 6,
     "metadata": {},
     "output_type": "execute_result"
    }
   ],
   "source": [
    "n = np.ceil((L*Imax)/(Bmax*Ac)*1E4)\n",
    "n"
   ]
  },
  {
   "cell_type": "code",
   "execution_count": 7,
   "id": "sapphire-installation",
   "metadata": {},
   "outputs": [
    {
     "data": {
      "text/plain": [
       "(0.03869565217391304, 38.69565217391304)"
      ]
     },
     "execution_count": 7,
     "metadata": {},
     "output_type": "execute_result"
    }
   ],
   "source": [
    "Ku = 0.5\n",
    "W_A = 1.78\n",
    "A_W = (Ku*W_A)/n\n",
    "A_W, A_W*1E3"
   ]
  },
  {
   "cell_type": "markdown",
   "id": "requested-minister",
   "metadata": {},
   "source": [
    "$\\begin{eqnarray}\n",
    "A_W &\\leq& \\frac{K_u W_A}{n} \\\\[0.5em]\n",
    "A_W &\\leq& \\frac{0.5 \\cdot 1.78}{23} \\\\[0.5em]\n",
    "A_W &\\leq& 0.039 \\ cm^2 = 39\\cdot 10^{-3}\\ cm^2\n",
    "\\end{eqnarray}$"
   ]
  },
  {
   "cell_type": "markdown",
   "id": "fresh-shipping",
   "metadata": {},
   "source": [
    "**Resistance**"
   ]
  },
  {
   "cell_type": "markdown",
   "id": "collective-progressive",
   "metadata": {},
   "source": [
    "$\\begin{eqnarray}\n",
    "R &=& \\rho \\ \\frac{n(MLT)}{A_W} \\\\[0.5em]\n",
    "R &=& (0.2\\cdot10^{-3}) \\ \\frac{23\\cdot10}{0.039} \\\\[0.5em]\n",
    "R &=& 0.014 < 0.04 \\Omega\n",
    "\\end{eqnarray}$"
   ]
  },
  {
   "cell_type": "code",
   "execution_count": 12,
   "id": "trying-outside",
   "metadata": {},
   "outputs": [
    {
     "data": {
      "text/plain": [
       "0.013670786516853932"
      ]
     },
     "execution_count": 12,
     "metadata": {},
     "output_type": "execute_result"
    }
   ],
   "source": [
    "MLT = 10\n",
    "R_actual = rho*n*MLT/A_W\n",
    "R_actual"
   ]
  },
  {
   "cell_type": "markdown",
   "id": "partial-metabolism",
   "metadata": {},
   "source": []
  }
 ],
 "metadata": {
  "kernelspec": {
   "display_name": "Python 3",
   "language": "python",
   "name": "python3"
  },
  "language_info": {
   "codemirror_mode": {
    "name": "ipython",
    "version": 3
   },
   "file_extension": ".py",
   "mimetype": "text/x-python",
   "name": "python",
   "nbconvert_exporter": "python",
   "pygments_lexer": "ipython3",
   "version": "3.7.9"
  },
  "varInspector": {
   "cols": {
    "lenName": 16,
    "lenType": 16,
    "lenVar": 40
   },
   "kernels_config": {
    "python": {
     "delete_cmd_postfix": "",
     "delete_cmd_prefix": "del ",
     "library": "var_list.py",
     "varRefreshCmd": "print(var_dic_list())"
    },
    "r": {
     "delete_cmd_postfix": ") ",
     "delete_cmd_prefix": "rm(",
     "library": "var_list.r",
     "varRefreshCmd": "cat(var_dic_list()) "
    }
   },
   "types_to_exclude": [
    "module",
    "function",
    "builtin_function_or_method",
    "instance",
    "_Feature"
   ],
   "window_display": false
  }
 },
 "nbformat": 4,
 "nbformat_minor": 5
}
