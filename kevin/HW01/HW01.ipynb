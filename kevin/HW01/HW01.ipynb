{
 "cells": [
  {
   "cell_type": "markdown",
   "id": "serious-harrison",
   "metadata": {},
   "source": [
    "# EE 452 – Power Electronics Design\n",
    "## Homework 1\n",
    "Due Date: Monday October 11th 2021, 11:59pm"
   ]
  },
  {
   "cell_type": "markdown",
   "id": "cognitive-command",
   "metadata": {},
   "source": [
    "**Instructions.** You must scan your completed homework assignment into a pdf file, and\n",
    "upload your file to the Canvas Assignment HW#1 page by the due date/time above. All\n",
    "pages must be gathered into a single file of moderate size, with the pages in the correct\n",
    "order. Set your phone or scanner for basic black and white scanning. You should obtain a\n",
    "file size of hundreds of kB, rather than tens of MB. I recommend using the ”Tiny Scanner”\n",
    "app. Please note that the grader will not be obligated to grade your assignment if the file\n",
    "is unreadable or very large."
   ]
  },
  {
   "cell_type": "code",
   "execution_count": 1,
   "id": "logical-impact",
   "metadata": {
    "slideshow": {
     "slide_type": "skip"
    }
   },
   "outputs": [],
   "source": [
    "# Imports\n",
    "import os\n",
    "import sys\n",
    "import cmath\n",
    "import math\n",
    "import matplotlib.pyplot as plt\n",
    "import matplotlib\n",
    "import numpy as np\n",
    "import pandas as pd\n",
    "import sympy as sp\n",
    "from sympy.utilities.lambdify import lambdify\n",
    "from scipy import signal\n",
    "%matplotlib inline\n",
    "from IPython.core.interactiveshell import InteractiveShell\n",
    "InteractiveShell.ast_node_interactivity = \"all\"\n",
    "from matplotlib.ticker import LogLocator"
   ]
  },
  {
   "cell_type": "markdown",
   "id": "brutal-procurement",
   "metadata": {},
   "source": [
    "**Problem 1.** Analysis and design of a buck-boost converter: A buck-boost converter is\n",
    "illustrated in Fig. 1(a), and a practical implementation using a transistor and diode is\n",
    "shown in Fig. 1(b)."
   ]
  },
  {
   "cell_type": "markdown",
   "id": "designing-product",
   "metadata": {},
   "source": [
    "<img src=\"img/EE532_HW01_Problem1.png\" width=\"400\">"
   ]
  },
  {
   "cell_type": "markdown",
   "id": "infinite-helicopter",
   "metadata": {},
   "source": [
    "**(a)** Find the dependence of the equilibrium output voltage $V$ and inductor current $I$ on\n",
    "the duty ratio $D$, input voltage $V_g$, and load resistance $R$. You may assume that the\n",
    "inductor current ripple and capacitor voltage ripple are small."
   ]
  },
  {
   "cell_type": "markdown",
   "id": "another-athletics",
   "metadata": {},
   "source": [
    "*Small-ripple approximation, $v \\approx V$ and $i_L \\approx I$"
   ]
  },
  {
   "cell_type": "markdown",
   "id": "sophisticated-hormone",
   "metadata": {},
   "source": [
    "Switch closed (at position 1)\n",
    "\n",
    "$\\begin{eqnarray}\n",
    "0 &=& V_g - v_L \\\\[0.25em]\n",
    "v_L &=& V_g \\\\[0.25em]\n",
    "\\frac{di_L}{dt} &=& \\frac{V_g}{L} && [i_L \\text{ slope}] \\\\[0.25em]\n",
    "\\end{eqnarray}$\n",
    "\n",
    "Switch open (at position 2)\n",
    "\n",
    "$\\begin{eqnarray}\n",
    "0 &=& v_L - v \\\\[0.25em]\n",
    "v_L &=& v \\\\[0.25em]\n",
    "\\frac{di_L}{dt} &=& \\frac{v}{L} && [i_L \\text{ slope}] \\\\[0.25em]\n",
    "\\end{eqnarray}$\n",
    "\n",
    "Total Volt Seconds over 1 period for Inductor Voltage\n",
    "\n",
    "$\\begin{eqnarray}\n",
    "&& \\int_{o}^{T_S} v_L(t) dt \\\\[0.25em]\n",
    "0 &=& D T_S \\cdot V_g + (1-D)T_S \\cdot V \\\\[0.25em]\n",
    "0 &=& D V_g + (1-D) V \\\\[0.25em]\n",
    "V &=& -V_g\\frac{D}{(1-D)} = -V_g\\frac{D}{D'} && [\\text{Output Voltage }V] \\\\[0.25em]\n",
    "\\end{eqnarray}$"
   ]
  },
  {
   "cell_type": "markdown",
   "id": "female-apollo",
   "metadata": {},
   "source": [
    "<hr>"
   ]
  },
  {
   "cell_type": "markdown",
   "id": "absolute-consent",
   "metadata": {},
   "source": [
    "Switch closed (at position 1)\n",
    "\n",
    "$\\begin{eqnarray}\n",
    "i_C &=& -\\frac{v}{R} &\\approx&  -\\frac{V}{R}\\\\[0.25em]\n",
    "\\end{eqnarray}$\n",
    "\n",
    "Switch open (at position 2)\n",
    "\n",
    "$\\begin{eqnarray}\n",
    "i_C &=& -i_L - \\frac{v}{R} \\\\[0.25em]\n",
    "i_C &\\approx& -I - \\frac{V}{R} \\\\[0.25em]\n",
    "\\end{eqnarray}$\n",
    "\n",
    "Total Volt Seconds over 1 period for Capacitor Current $I$\n",
    "\n",
    "$\\begin{eqnarray}\n",
    "&& \\int_{o}^{T_S} i_C(t) dt \\\\[0.25em]\n",
    "0 &=& D T_S \\cdot (\\frac{-V}{R}) + (1-D)T_S \\cdot (-I - \\frac{V}{R}) \\\\[0.25em]\n",
    "0 &=& D (\\frac{-V}{R}) + (1-D)(-I - \\frac{V}{R}) \\\\[0.25em]\n",
    "0 &=& D (\\frac{-V}{R}) + D'(\\frac{-V}{R}) - D'I \\\\[0.25em]\n",
    "0 &=& (D+D')(\\frac{-V}{R})- D'I \\\\[0.25em]\n",
    "D'I &=& \\frac{-V}{R} \\\\[0.25em]\n",
    "I &=& \\frac{-V}{D'R}  \\\\[0.25em]\n",
    "I &=& V_g\\frac{D}{D'D'R}  && [\\text{Inductor Current }I] \\\\[0.25em]\n",
    "\\end{eqnarray}$"
   ]
  },
  {
   "cell_type": "markdown",
   "id": "asian-student",
   "metadata": {},
   "source": [
    "**(b)** Plot your results of part (a) over the range 0 ≤ D ≤ 1."
   ]
  },
  {
   "cell_type": "code",
   "execution_count": 2,
   "id": "bright-montreal",
   "metadata": {},
   "outputs": [],
   "source": [
    "D = np.linspace(0,1,11)\n",
    "Vg = 15\n",
    "V = -12\n",
    "R = 4\n",
    "fs = 200e3\n",
    "Ts = 1/fs\n",
    "D_p = 1-D"
   ]
  },
  {
   "cell_type": "code",
   "execution_count": 3,
   "id": "aggregate-dubai",
   "metadata": {},
   "outputs": [
    {
     "name": "stderr",
     "output_type": "stream",
     "text": [
      "/home/kegedy/anaconda3/lib/python3.7/site-packages/ipykernel_launcher.py:3: RuntimeWarning: divide by zero encountered in true_divide\n",
      "  This is separate from the ipykernel package so we can avoid doing imports until\n",
      "No handles with labels found to put in legend.\n"
     ]
    },
    {
     "data": {
      "image/png": "[encoded data removed]",
      "text/plain": [
       "<Figure size 720x360 with 1 Axes>"
      ]
     },
     "metadata": {
      "needs_background": "light"
     },
     "output_type": "display_data"
    }
   ],
   "source": [
    "fig, ax = plt.subplots(figsize=(10,5))\n",
    "ax.set_title('Buck Boost Converter $V$')\n",
    "ax.plot(D,-Vg*D/D_p,marker='o')\n",
    "ax.set_ylabel('Output Voltage [V]')\n",
    "ax.set_xlabel('Duty Cycle')\n",
    "ax.grid(which='both', axis='both')\n",
    "ax.legend()\n",
    "plt.show();"
   ]
  },
  {
   "cell_type": "code",
   "execution_count": 4,
   "id": "rural-field",
   "metadata": {},
   "outputs": [
    {
     "name": "stderr",
     "output_type": "stream",
     "text": [
      "/home/kegedy/anaconda3/lib/python3.7/site-packages/ipykernel_launcher.py:3: RuntimeWarning: divide by zero encountered in true_divide\n",
      "  This is separate from the ipykernel package so we can avoid doing imports until\n",
      "No handles with labels found to put in legend.\n"
     ]
    },
    {
     "data": {
      "image/png": "[encoded data removed]",
      "text/plain": [
       "<Figure size 720x360 with 1 Axes>"
      ]
     },
     "metadata": {
      "needs_background": "light"
     },
     "output_type": "display_data"
    }
   ],
   "source": [
    "fig, ax = plt.subplots(figsize=(10,5))\n",
    "ax.set_title('Buck Boost Converter $I_L$')\n",
    "ax.plot(D,Vg*D/D_p/D_p/R,marker='o')\n",
    "ax.set_ylabel('Inductor Current [A]')\n",
    "ax.set_xlabel('Duty Cycle')\n",
    "ax.grid(which='both', axis='both')\n",
    "ax.legend()\n",
    "plt.show();"
   ]
  },
  {
   "cell_type": "markdown",
   "id": "wired-afghanistan",
   "metadata": {},
   "source": [
    "**(c)** DC design: For the specifications below:\n",
    "- $V_g$ = 15 V, $V$ = −12 V, $R$ = 4 $\\Omega$, $f_s$ = 200 kHz"
   ]
  },
  {
   "cell_type": "markdown",
   "id": "exempt-driving",
   "metadata": {},
   "source": [
    "**(i)** Find D and I"
   ]
  },
  {
   "cell_type": "markdown",
   "id": "happy-person",
   "metadata": {},
   "source": [
    "Solving for D:\n",
    "\n",
    "$\\begin{eqnarray}\n",
    "V &=& -V_g\\frac{D}{D'} \\\\[0.25em]\n",
    "\\frac{D}{D'} &=& \\frac{-V}{V_g} \\\\[0.25em]\n",
    "D &=& \\frac{-V}{V_g}(1-D) \\\\[0.25em]\n",
    "D - \\frac{V}{V_g}D &=& \\frac{-V}{V_g} \\\\[0.25em]\n",
    "D(1 - \\frac{V}{V_g}) &=& \\frac{-V}{V_g} \\\\[0.25em]\n",
    "D &=& \\frac{-V/V_g}{(1 - V/V_g)} \\\\[0.25em]\n",
    "D &=& 0.44\n",
    "\\end{eqnarray}$"
   ]
  },
  {
   "cell_type": "code",
   "execution_count": 5,
   "id": "hollywood-assault",
   "metadata": {},
   "outputs": [
    {
     "name": "stdout",
     "output_type": "stream",
     "text": [
      "Duty Cycle = 0.44\n"
     ]
    }
   ],
   "source": [
    "D = -V/Vg/(1-V/Vg)\n",
    "D_p = 1-D\n",
    "print(f'Duty Cycle = {round(D,2)}')"
   ]
  },
  {
   "cell_type": "markdown",
   "id": "english-bracket",
   "metadata": {},
   "source": [
    "<hr>\n",
    "\n",
    "Solving for I\n",
    "\n",
    "$\\begin{eqnarray}\n",
    "I &=& V_g\\frac{D}{D'D'R} \\\\[0.25em]\n",
    "I &=& 5.4 \\text{ Amps}\n",
    "\\end{eqnarray}$"
   ]
  },
  {
   "cell_type": "code",
   "execution_count": 6,
   "id": "executed-gravity",
   "metadata": {},
   "outputs": [
    {
     "name": "stdout",
     "output_type": "stream",
     "text": [
      "Inductor Current = 5.4\n"
     ]
    }
   ],
   "source": [
    "I = Vg*D/D_p/D_p/R\n",
    "print(f'Inductor Current = {round(I,2)}')"
   ]
  },
  {
   "cell_type": "markdown",
   "id": "welsh-browser",
   "metadata": {},
   "source": [
    "**(ii)** Calculate the value of $L$ that will make the peak inductor current ripple $\\Delta i$ equal\n",
    "to ten percent of the average inductor current $I$."
   ]
  },
  {
   "cell_type": "markdown",
   "id": "bearing-update",
   "metadata": {},
   "source": [
    "10% of $I$ = 0.54A \n",
    "\n",
    "$\\begin{eqnarray}\n",
    "2\\Delta i &=& \\frac{di_L}{dt}DT_S \\\\[0.25em]\n",
    "\\Delta i &=& \\frac{V_g}{L}\\frac{DT_S}{2} \\\\[0.25em]\n",
    "0.54 &=& \\frac{V_g}{L}\\frac{DT_S}{2} \\\\[0.25em]\n",
    "L &=& \\frac{V_g}{0.54}\\frac{DT_S}{2} \\\\[0.25em]\n",
    "L &=& 30.9 \\mu H\n",
    "\\end{eqnarray}$"
   ]
  },
  {
   "cell_type": "code",
   "execution_count": 7,
   "id": "photographic-discount",
   "metadata": {},
   "outputs": [
    {
     "name": "stdout",
     "output_type": "stream",
     "text": [
      "L = 3.09e-05 uH\n"
     ]
    }
   ],
   "source": [
    "L = (Vg/0.54)*D*Ts/2\n",
    "print(f'L = {round(L,7)} uH')"
   ]
  },
  {
   "cell_type": "markdown",
   "id": "normal-japanese",
   "metadata": {},
   "source": [
    "**(iii)** Choose $C$ such that the peak output voltage ripple $\\Delta v$ is 0.1 V."
   ]
  },
  {
   "cell_type": "markdown",
   "id": "iraqi-steering",
   "metadata": {},
   "source": [
    "$\\begin{eqnarray}\n",
    "2\\Delta v &=& \\frac{dv_C}{dt}DT_S \\\\[0.25em]\n",
    "\\Delta v &=& \\frac{i_C}{2C}DT_S \\\\[0.25em]\n",
    "0.1 &=& \\frac{-V}{2RC}DT_S \\\\[0.25em]\n",
    "C &=& \\frac{-V}{2R\\cdot 0.1}DT_S \\\\[0.25em]\n",
    "C &=& 33.3 \\mu F\n",
    "\\end{eqnarray}$"
   ]
  },
  {
   "cell_type": "code",
   "execution_count": 8,
   "id": "auburn-parliament",
   "metadata": {},
   "outputs": [
    {
     "name": "stdout",
     "output_type": "stream",
     "text": [
      "C = 3.33e-05 uH\n"
     ]
    }
   ],
   "source": [
    "C = D*Ts*-V/2/R/0.1\n",
    "print(f'C = {round(C,7)} uH')"
   ]
  },
  {
   "cell_type": "markdown",
   "id": "virgin-affiliate",
   "metadata": {},
   "source": [
    "**(d)** Sketch the transistor drain current waveform $i_T (t)$ for your design of part (c). Include\n",
    "the effects of inductor current ripple, and label numerical values and axes. What is\n",
    "the peak value of $i_T (t)$? Also sketch $i_T (t)$ for the case when $L$ is decreased such that\n",
    "$\\Delta i$ is 50% of $I$. What happens to the peak value of $i_T$ in this case?"
   ]
  },
  {
   "cell_type": "markdown",
   "id": "threaded-scott",
   "metadata": {},
   "source": [
    "Part c design:"
   ]
  },
  {
   "cell_type": "code",
   "execution_count": 9,
   "id": "green-freight",
   "metadata": {},
   "outputs": [],
   "source": [
    "Vg = 15\n",
    "V = -12\n",
    "R = 4\n",
    "fs = 200e3\n",
    "Ts = 1/fs\n",
    "D = -V/Vg/(1-V/Vg)\n",
    "D_p = 1-D"
   ]
  },
  {
   "cell_type": "code",
   "execution_count": 10,
   "id": "connected-orange",
   "metadata": {},
   "outputs": [
    {
     "data": {
      "image/png": "[encoded data removed]",
      "text/plain": [
       "<Figure size 720x360 with 1 Axes>"
      ]
     },
     "metadata": {
      "needs_background": "light"
     },
     "output_type": "display_data"
    }
   ],
   "source": [
    "ripple_spec = 0.1\n",
    "t = np.linspace(0,Ts,100)\n",
    "enable = np.zeros(len(t))\n",
    "switch = round(D*100)\n",
    "enable[0:switch] = 1\n",
    "enable[switch:] = 0\n",
    "iL_avg = Vg*D/D_p/D_p/R\n",
    "iL_pslope = Vg/L\n",
    "ripple = iL_avg*ripple_spec\n",
    "iT = np.zeros(len(t))\n",
    "iT[0:switch] = np.linspace(iL_avg-ripple,iL_avg+ripple,switch)\n",
    "\n",
    "fig, ax = plt.subplots(figsize=(10,5))\n",
    "ax.set_title(f'Transistor Drain Current Waveform: Ipk-pk = [{round(min(iT[0:switch]),2)}, {round(max(iT),2)}]')\n",
    "ax.plot(t,enable,label='switch')\n",
    "ax.plot(t,iT,color='red',label='Transistor Current')\n",
    "ax.set_ylabel('$i_T(t)$ [A]')\n",
    "ax.set_xlabel('Time (s)')\n",
    "ax.grid(which='both', axis='both')\n",
    "ax.legend()\n",
    "plt.show();"
   ]
  },
  {
   "cell_type": "markdown",
   "id": "active-milan",
   "metadata": {},
   "source": [
    "50% of $I$ = 2.7A "
   ]
  },
  {
   "cell_type": "code",
   "execution_count": 11,
   "id": "marked-sponsorship",
   "metadata": {},
   "outputs": [
    {
     "name": "stdout",
     "output_type": "stream",
     "text": [
      "L = 6.2e-06 uH\n"
     ]
    }
   ],
   "source": [
    "L = (Vg/2.7)*D*Ts/2\n",
    "print(f'L = {round(L,7)} uH')"
   ]
  },
  {
   "cell_type": "code",
   "execution_count": 12,
   "id": "assigned-facility",
   "metadata": {},
   "outputs": [
    {
     "data": {
      "image/png": "[encoded data removed]",
      "text/plain": [
       "<Figure size 720x360 with 1 Axes>"
      ]
     },
     "metadata": {
      "needs_background": "light"
     },
     "output_type": "display_data"
    }
   ],
   "source": [
    "ripple_spec = 0.5\n",
    "t = np.linspace(0,Ts,100)\n",
    "enable = np.zeros(len(t))\n",
    "switch = round(D*100)\n",
    "enable[0:switch] = 1\n",
    "enable[switch:] = 0\n",
    "iL_avg = Vg*D/D_p/D_p/R\n",
    "iL_pslope = Vg/L\n",
    "ripple = iL_avg*ripple_spec\n",
    "iT = np.zeros(len(t))\n",
    "iT[0:switch] = np.linspace(iL_avg-ripple,iL_avg+ripple,switch)\n",
    "\n",
    "fig, ax = plt.subplots(figsize=(10,5))\n",
    "ax.set_title(f'Transistor Drain Current Waveform: Ipk-pk = [{round(min(iT[0:switch]),2)}, {round(max(iT),2)}]')\n",
    "ax.plot(t,enable,label='switch')\n",
    "ax.plot(t,iT,color='red',label='Transistor Current')\n",
    "ax.set_ylabel('$i_T(t)$ [A]')\n",
    "ax.set_xlabel('Time (s)')\n",
    "ax.grid(which='both', axis='both')\n",
    "ax.legend()\n",
    "plt.show();"
   ]
  },
  {
   "cell_type": "markdown",
   "id": "sweet-sunday",
   "metadata": {},
   "source": [
    "As L decreases, $i_T(t)$ increases. The positive slope is dependant on $\\frac{V_g}{L}$."
   ]
  },
  {
   "cell_type": "markdown",
   "id": "duplicate-eugene",
   "metadata": {},
   "source": [
    "**(e)** Sketch the diode current waveform $i_D (t)$ for the two cases of part d."
   ]
  },
  {
   "cell_type": "markdown",
   "id": "fixed-smoke",
   "metadata": {},
   "source": [
    "Part c design:"
   ]
  },
  {
   "cell_type": "code",
   "execution_count": 13,
   "id": "national-internet",
   "metadata": {},
   "outputs": [],
   "source": [
    "Vg = 15\n",
    "V = -12\n",
    "R = 4\n",
    "fs = 200e3\n",
    "Ts = 1/fs\n",
    "D = -V/Vg/(1-V/Vg)\n",
    "D_p = 1-D"
   ]
  },
  {
   "cell_type": "code",
   "execution_count": 14,
   "id": "compact-declaration",
   "metadata": {
    "scrolled": false
   },
   "outputs": [
    {
     "data": {
      "image/png": "[encoded data removed]",
      "text/plain": [
       "<Figure size 720x360 with 1 Axes>"
      ]
     },
     "metadata": {
      "needs_background": "light"
     },
     "output_type": "display_data"
    }
   ],
   "source": [
    "ripple_spec = 0.1\n",
    "t = np.linspace(0,Ts,100)\n",
    "enable = np.zeros(len(t))\n",
    "switch = round(D*100)\n",
    "enable[0:switch] = 1\n",
    "enable[switch:] = 0\n",
    "iL_avg = Vg*D/D_p/D_p/R\n",
    "iL_nslope = V/L\n",
    "ripple = iL_avg*ripple_spec\n",
    "diode = np.zeros(len(t))\n",
    "diode[switch:] = np.linspace(iL_avg+ripple,iL_avg-ripple,100-switch)\n",
    "\n",
    "fig, ax = plt.subplots(figsize=(10,5))\n",
    "ax.set_title(f'Diode Current Waveform: Ipk-pk = [{round(max(diode),2)}, {round(min(diode[switch:]),2)}]')\n",
    "ax.plot(t,enable,label='switch')\n",
    "ax.plot(t,diode,color='red',label='Diode Current')\n",
    "ax.set_ylabel('$i_T(t)$ [A]')\n",
    "ax.set_xlabel('Time (s)')\n",
    "ax.grid(which='both', axis='both')\n",
    "ax.legend()\n",
    "plt.show();"
   ]
  },
  {
   "cell_type": "markdown",
   "id": "warming-better",
   "metadata": {},
   "source": [
    "50% of $I$ = 2.7A "
   ]
  },
  {
   "cell_type": "code",
   "execution_count": 15,
   "id": "collaborative-serial",
   "metadata": {},
   "outputs": [
    {
     "name": "stdout",
     "output_type": "stream",
     "text": [
      "L = 6.2e-06 uH\n"
     ]
    }
   ],
   "source": [
    "L = (Vg/2.7)*D*Ts/2\n",
    "print(f'L = {round(L,7)} uH')"
   ]
  },
  {
   "cell_type": "code",
   "execution_count": 16,
   "id": "sunrise-organization",
   "metadata": {},
   "outputs": [
    {
     "data": {
      "image/png": "[encoded data removed]",
      "text/plain": [
       "<Figure size 720x360 with 1 Axes>"
      ]
     },
     "metadata": {
      "needs_background": "light"
     },
     "output_type": "display_data"
    }
   ],
   "source": [
    "ripple_spec = 0.5\n",
    "t = np.linspace(0,Ts,100)\n",
    "enable = np.zeros(len(t))\n",
    "switch = round(D*100)\n",
    "enable[0:switch] = 1\n",
    "enable[switch:] = 0\n",
    "iL_avg = Vg*D/D_p/D_p/R\n",
    "iL_nslope = V/L\n",
    "ripple = iL_avg*ripple_spec\n",
    "diode = np.zeros(len(t))\n",
    "diode[switch:] = np.linspace(iL_avg+ripple,iL_avg-ripple,100-switch)\n",
    "\n",
    "fig, ax = plt.subplots(figsize=(10,5))\n",
    "ax.set_title(f'Diode Current Waveform: Ipk-pk = [{round(max(diode),2)}, {round(min(diode[switch:]),2)}]')\n",
    "ax.plot(t,enable,label='switch')\n",
    "ax.plot(t,diode,color='red',label='Diode Current')\n",
    "ax.set_ylabel('$i_T(t)$ [A]')\n",
    "ax.set_xlabel('Time (s)')\n",
    "ax.grid(which='both', axis='both')\n",
    "ax.legend()\n",
    "plt.show();"
   ]
  },
  {
   "cell_type": "markdown",
   "id": "secret-highland",
   "metadata": {},
   "source": [
    "**Problem 2.** The boost converter illustrated in Fig. 2 operates with the following conditions:\n",
    "- $V_g$ = 3.3 V, $V$ = 5 V, $f_s$ = 500 kHz\n",
    "\n",
    "All elements are ideal, and the converter operates in steady state with small inductor current\n",
    "ripple and small capacitor voltage ripple."
   ]
  },
  {
   "cell_type": "markdown",
   "id": "electoral-throat",
   "metadata": {},
   "source": [
    "<img src=\"img/EE532_HW01_Problem2.png\" width=\"450\">"
   ]
  },
  {
   "cell_type": "code",
   "execution_count": 17,
   "id": "comic-mother",
   "metadata": {},
   "outputs": [],
   "source": [
    "Vg = 3.3\n",
    "V = 5\n",
    "fs = 500e3\n",
    "Ts = 1/fs"
   ]
  },
  {
   "cell_type": "markdown",
   "id": "changed-survivor",
   "metadata": {},
   "source": [
    "**(a)** What is the duty cycle?"
   ]
  },
  {
   "cell_type": "markdown",
   "id": "neural-berkeley",
   "metadata": {},
   "source": [
    "Switch closed (at position 1)\n",
    "\n",
    "$\\begin{eqnarray}\n",
    "0 &=& V_g - v_L \\\\[0.25em]\n",
    "v_L &=& V_g \\\\[0.25em]\n",
    "\\end{eqnarray}$\n",
    "\n",
    "Switch open (at position 2)\n",
    "\n",
    "$\\begin{eqnarray}\n",
    "0 &=& V_g - v_L - v \\\\[0.25em]\n",
    "v_L &=& V_g - v \\\\[0.25em]\n",
    "\\end{eqnarray}$\n",
    "\n",
    "Total Volt Seconds over 1 period for Inductor Voltage\n",
    "\n",
    "$\\begin{eqnarray}\n",
    "&& \\int_{o}^{T_S} v_L(t) dt \\\\[0.25em]\n",
    "0 &=& D T_S \\cdot V_g + (1-D)T_S \\cdot (V_g-V) \\\\[0.25em]\n",
    "0 &=& D V_g + D' (V_g-V) \\\\[0.25em]\n",
    "0 &=& V_g(D + D') -V D' \\\\[0.25em]\n",
    "0 &=& V_g -V D' \\\\[0.25em]\n",
    "V &=& \\frac{V_g}{D'} = \\frac{V_g}{1-D} \\\\[0.25em]\n",
    "\\end{eqnarray}$\n",
    "\n",
    "Solving for D:\n",
    "\n",
    "$\\begin{eqnarray}\n",
    "1-D &=& \\frac{V_g}{V} \\\\[0.25em]\n",
    "D &=& 1-\\frac{V_g}{V} \\\\[0.25em]\n",
    "D &=& 0.34\n",
    "\\end{eqnarray}$"
   ]
  },
  {
   "cell_type": "code",
   "execution_count": 18,
   "id": "inappropriate-lesbian",
   "metadata": {},
   "outputs": [
    {
     "name": "stdout",
     "output_type": "stream",
     "text": [
      "Duty Cycle = 0.34\n"
     ]
    }
   ],
   "source": [
    "D = 1 - Vg/V\n",
    "print(f'Duty Cycle = {round(D,2)}')"
   ]
  },
  {
   "cell_type": "markdown",
   "id": "opening-climb",
   "metadata": {},
   "source": [
    "**(b)** Sketch the waveform of the MOSFET drain-to-source voltage, $v_{DS}$."
   ]
  },
  {
   "cell_type": "code",
   "execution_count": 19,
   "id": "characteristic-worker",
   "metadata": {},
   "outputs": [
    {
     "data": {
      "image/png": "[encoded data removed]",
      "text/plain": [
       "<Figure size 720x360 with 1 Axes>"
      ]
     },
     "metadata": {
      "needs_background": "light"
     },
     "output_type": "display_data"
    }
   ],
   "source": [
    "ripple_spec = 0.1\n",
    "t = np.linspace(0,Ts,100)\n",
    "enable = np.zeros(len(t))\n",
    "switch = round(D*100)\n",
    "enable[0:switch] = 1\n",
    "enable[switch:] = 0\n",
    "iL_pslope = Vg/L\n",
    "ripple = iL_avg*ripple_spec\n",
    "FET = np.zeros(len(t))\n",
    "FET[switch:] = np.linspace(V-ripple,V+ripple,100-switch)\n",
    "\n",
    "fig, ax = plt.subplots(figsize=(10,5))\n",
    "ax.set_title(f'MOSFET Voltage Waveform: Vdc = {V}')\n",
    "ax.plot(t,enable,label='switch')\n",
    "ax.plot(t,FET,color='red',label='MOSFET Voltage')\n",
    "ax.set_ylabel('$i_T(t)$ [A]')\n",
    "ax.set_xlabel('Time (s)')\n",
    "ax.grid(which='both', axis='both')\n",
    "ax.legend()\n",
    "plt.show();"
   ]
  },
  {
   "cell_type": "markdown",
   "id": "atmospheric-picnic",
   "metadata": {},
   "source": [
    "**(c)** Find the dc component of the voltage waveform in Part b."
   ]
  },
  {
   "cell_type": "markdown",
   "id": "purple-wyoming",
   "metadata": {},
   "source": [
    "$\\begin{eqnarray}\n",
    "\\int_{o}^{T_S} v_{FET}(t) dt = (1-D)V = 3.3V\\\\[0.25em]\n",
    "\\end{eqnarray}$"
   ]
  },
  {
   "cell_type": "code",
   "execution_count": null,
   "id": "atmospheric-puzzle",
   "metadata": {},
   "outputs": [],
   "source": []
  }
 ],
 "metadata": {
  "kernelspec": {
   "display_name": "Python 3",
   "language": "python",
   "name": "python3"
  },
  "language_info": {
   "codemirror_mode": {
    "name": "ipython",
    "version": 3
   },
   "file_extension": ".py",
   "mimetype": "text/x-python",
   "name": "python",
   "nbconvert_exporter": "python",
   "pygments_lexer": "ipython3",
   "version": "3.7.9"
  },
  "varInspector": {
   "cols": {
    "lenName": 16,
    "lenType": 16,
    "lenVar": 40
   },
   "kernels_config": {
    "python": {
     "delete_cmd_postfix": "",
     "delete_cmd_prefix": "del ",
     "library": "var_list.py",
     "varRefreshCmd": "print(var_dic_list())"
    },
    "r": {
     "delete_cmd_postfix": ") ",
     "delete_cmd_prefix": "rm(",
     "library": "var_list.r",
     "varRefreshCmd": "cat(var_dic_list()) "
    }
   },
   "types_to_exclude": [
    "module",
    "function",
    "builtin_function_or_method",
    "instance",
    "_Feature"
   ],
   "window_display": false
  }
 },
 "nbformat": 4,
 "nbformat_minor": 5
}
