{
 "cells": [
  {
   "cell_type": "code",
   "execution_count": 1,
   "id": "completed-partition",
   "metadata": {},
   "outputs": [],
   "source": [
    "# Imports\n",
    "import os\n",
    "import sys\n",
    "import cmath\n",
    "import math\n",
    "import matplotlib.pyplot as plt\n",
    "import matplotlib\n",
    "import numpy as np\n",
    "import pandas as pd\n",
    "import sympy as sp\n",
    "from sympy.utilities.lambdify import lambdify\n",
    "from scipy import signal\n",
    "%matplotlib inline\n",
    "from IPython.core.interactiveshell import InteractiveShell\n",
    "InteractiveShell.ast_node_interactivity = \"all\"\n",
    "from matplotlib.ticker import LogLocator"
   ]
  },
  {
   "cell_type": "markdown",
   "id": "monthly-fields",
   "metadata": {},
   "source": [
    "*Small-ripple approximation, $v \\approx V$ and $i_L \\approx I$"
   ]
  },
  {
   "cell_type": "markdown",
   "id": "chubby-enterprise",
   "metadata": {},
   "source": [
    "Switch $[0<t<DT_s]$\n",
    "\n",
    "$\\begin{eqnarray}\n",
    "0 &=& V_g - v_L -i_L R_L - v\\\\[0.25em]\n",
    "v_L &=& V_g -i_L R_L - v \\\\[0.25em]\n",
    "\\frac{di_L}{dt} &=& \\frac{V_g -i_L R_L - v}{L} && [i_L \\text{ slope}] \\\\[0.25em]\n",
    "\\end{eqnarray}$\n",
    "\n",
    "Switch $[DT_s<t<T_s]$\n",
    "\n",
    "$\\begin{eqnarray}\n",
    "0 &=& V_g - v_L -i_L R_L + v\\\\[0.25em]\n",
    "v_L &=& V_g -i_L R_L + v \\\\[0.25em]\n",
    "\\frac{di_L}{dt} &=& \\frac{V_g -i_L R_L + v}{L} && [i_L \\text{ slope}] \\\\[0.25em]\n",
    "\\end{eqnarray}$\n",
    "\n",
    "Total Volt Seconds over 1 period for Inductor Voltage (small ripple approx)\n",
    "\n",
    "$\\begin{eqnarray}\n",
    "<v_L> &=& \\frac{1}{T_S} \\int_{o}^{T_S} v_L(t) dt \\\\[0.25em]\n",
    "0 &=& \\left[D T_S \\cdot (V_g -I R_L - V)\\right] + \\left[D'T_S \\cdot (V_g -I R_L + V) \\right] \\\\[0.25em]\n",
    "0 &=& D T_S V_g - D T_S I R_L - D T_S V + D' T_S V_g - D' T_S I R_L + D' T_S V \\\\[0.25em]\n",
    "0 &=& (D+D') T_S V_g - (D+D') T_S I R_L - D T_S V + D' T_S V \\\\[0.25em]\n",
    "0 &=& T_S V_g - T_S I R_L - (D-D') T_S V  \\\\[0.25em]\n",
    "V &=& \\frac{T_S V_g - T_S I R_L}{(D-D') T_S } \\\\[0.25em]\n",
    "V &=& \\frac{V_g - I R_L}{D-D'} = \\frac{V_g - I R_L}{2D -1} & [\\text{Output Voltage }V] \\\\[0.25em]\n",
    "\\end{eqnarray}$\n",
    "\n",
    "<hr>"
   ]
  },
  {
   "cell_type": "markdown",
   "id": "lasting-judges",
   "metadata": {},
   "source": [
    "Switch $[0<t<DT_s]$\n",
    "\n",
    "$\\begin{eqnarray}\n",
    "i_C &=& i_L -\\frac{v}{R} \\\\[0.25em]\n",
    "\\end{eqnarray}$\n",
    "\n",
    "Switch $[DT_s<t<T_s]$\n",
    "\n",
    "$\\begin{eqnarray}\n",
    "i_C &=& -i_L - \\frac{v}{R} = -(i_L + \\frac{V}{R}) \\\\[0.25em]\n",
    "\\end{eqnarray}$\n",
    "\n",
    "Total Volt Seconds over 1 period for Capacitor Current (small ripple approx)\n",
    "\n",
    "$\\begin{eqnarray}\n",
    "<i_C> &=& \\frac{1}{T_S} \\int_{o}^{T_S} i_C(t) dt \\\\[0.25em]\n",
    "0 &=& \\left[D T_S \\cdot (I-\\frac{V}{R})\\right] + \\left[(D')T_S \\cdot (-I - \\frac{V}{R})\\right] \\\\[0.25em]\n",
    "0 &=& D T_S I - D' T_S I - (D T_S \\frac{V}{R} + D'T_S \\frac{V}{R}) \\\\[0.25em]\n",
    "0 &=& (D- D') T_S I -(D+D')T_S(\\frac{V}{R}) \\\\[0.25em]\n",
    "0 &=& (D- D')I -\\frac{V}{R}  \\\\[0.25em]\n",
    "I &=& \\frac{V/R}{D-D'} && [\\text{Inductor Current }I] \\\\[0.25em]\n",
    "\\end{eqnarray}$\n",
    "\n",
    "<hr>"
   ]
  },
  {
   "cell_type": "markdown",
   "id": "framed-vault",
   "metadata": {},
   "source": [
    "Nonideal Voltage Conversion Ratio $M = V/V_g$\n",
    "\n",
    "$\\begin{eqnarray}\n",
    "V &=& \\frac{V_g - I R_L}{D-D'} &\\text{and}& I = \\frac{V/R}{D-D'} \\\\[0.25em]\n",
    "V &=& \\frac{V_g - \\left( \\frac{V/R}{D-D'} \\right) R_L}{D-D'} \\\\[0.25em]\n",
    "V &=& \\frac{V_g}{D-D'} - \\frac{\\left( \\frac{V/R}{D-D'} \\right) R_L}{D-D'} \\\\[0.25em]\n",
    "V &=& \\frac{V_g}{D-D'} - V\\frac{R_L/R}{(D-D')^2} \\\\[0.25em]\n",
    "V+V\\frac{R_L/R}{(D-D')^2} &=& \\frac{V_g}{D-D'} \\\\[0.25em]\n",
    "V &=& \\frac{\\frac{V_g}{D-D'}}{\\left(1+\\frac{R_L/R}{(D-D')^2} \\right)} \\\\[0.25em]\n",
    "V &=& V_g\\cdot \\frac{1}{D-D'}\\cdot \\frac{1}{1+\\frac{R_L/R}{(D-D')^2}} \\\\[0.25em]\n",
    "M = \\frac{V}{V_g} &=& \\frac{1}{D-D'}\\cdot \\frac{1}{1+\\frac{R_L/R}{(D-D')^2}} \\\\[0.25em]\n",
    "\\end{eqnarray}$\n",
    "\n",
    "<hr>"
   ]
  },
  {
   "cell_type": "markdown",
   "id": "shaped-concept",
   "metadata": {},
   "source": [
    "Efficiency $\\eta = \\frac{P_{out}}{P_{in}}$\n",
    "\n",
    "$\\begin{eqnarray}\n",
    "\\frac{P_{out}}{P_{in}} &=& \\frac{V_{out}I_{out}}{V_g I} = M(D)\\cdot \\frac{I_{out}}{I} \\\\[0.25em]\n",
    "I &=& \\frac{V/R}{D-D'} \\\\[0.25em]\n",
    "I_{out} &=& \\frac{V}{R} \\\\[0.25em]\n",
    "\\eta &=& \\frac{1}{D-D'}\\cdot \\frac{1}{1+\\frac{R_L/R}{(D-D')^2}}  \\cdot V/R \\cdot \\left(\\frac{V/R}{D-D'}\\right)^{-1}  \\\\[0.25em]\n",
    "\\eta &=& \\frac{1}{D-D'}\\cdot \\frac{1}{1+\\frac{R_L/R}{(D-D')^2}}  \\cdot V/R \\cdot \\frac{D-D'}{V/R}  \\\\[0.25em]\n",
    "\\eta &=& \\frac{1}{1+\\frac{R_L/R}{(D-D')^2}}  \\\\[0.25em]\n",
    "\\end{eqnarray}$\n",
    "\n",
    "<hr>"
   ]
  },
  {
   "cell_type": "code",
   "execution_count": 14,
   "id": "bridal-plasma",
   "metadata": {},
   "outputs": [
    {
     "name": "stderr",
     "output_type": "stream",
     "text": [
      "/home/kegedy/anaconda3/lib/python3.7/site-packages/ipykernel_launcher.py:6: RuntimeWarning: divide by zero encountered in true_divide\n",
      "  \n",
      "/home/kegedy/anaconda3/lib/python3.7/site-packages/ipykernel_launcher.py:6: RuntimeWarning: invalid value encountered in true_divide\n",
      "  \n",
      "/home/kegedy/anaconda3/lib/python3.7/site-packages/ipykernel_launcher.py:6: RuntimeWarning: divide by zero encountered in true_divide\n",
      "  \n",
      "/home/kegedy/anaconda3/lib/python3.7/site-packages/ipykernel_launcher.py:6: RuntimeWarning: invalid value encountered in true_divide\n",
      "  \n",
      "/home/kegedy/anaconda3/lib/python3.7/site-packages/ipykernel_launcher.py:6: RuntimeWarning: divide by zero encountered in true_divide\n",
      "  \n",
      "/home/kegedy/anaconda3/lib/python3.7/site-packages/ipykernel_launcher.py:6: RuntimeWarning: invalid value encountered in true_divide\n",
      "  \n"
     ]
    },
    {
     "data": {
      "image/png": "[encoded data removed]",
      "text/plain": [
       "<Figure size 576x576 with 1 Axes>"
      ]
     },
     "metadata": {
      "needs_background": "light"
     },
     "output_type": "display_data"
    }
   ],
   "source": [
    "fig, ax = plt.subplots(figsize=(8,8))\n",
    "ax.set_title('Nonideal Current-Fed Bridge Converter')\n",
    "D = np.linspace(0,1,101)\n",
    "D_p = 1-D\n",
    "for R_ratio in [0,0.01,0.05]:\n",
    "    M = (1/(D-D_p))*1/(1+(R_ratio/(D-D_p)**2))\n",
    "    ax.plot(D,M,label=f'R_L/R = {round(R_ratio,2)}')\n",
    "ax.set_ylabel('Voltage Conversion Ratio [M]')\n",
    "ax.set_xlabel('Duty Cycle [D]')\n",
    "ax.grid(which='both', axis='both')\n",
    "ax.legend()\n",
    "plt.show();"
   ]
  },
  {
   "cell_type": "markdown",
   "id": "suitable-peter",
   "metadata": {},
   "source": [
    "Switch $[0<t<DT_s]$\n",
    "\n",
    "$\\begin{eqnarray}\n",
    "i_C &=& -\\frac{v}{R} \\\\[0.25em]\n",
    "\\end{eqnarray}$\n",
    "\n",
    "Switch $[DT_s<t<T_s]$\n",
    "\n",
    "$\\begin{eqnarray}\n",
    "i_C &=& i_L - \\frac{v}{R} \\\\[0.25em]\n",
    "\\end{eqnarray}$\n",
    "\n",
    "Total Volt Seconds over 1 period for Capacitor Current (small ripple approx)\n",
    "\n",
    "$\\begin{eqnarray}\n",
    "<i_C> &=& \\frac{1}{T_S} \\int_{o}^{T_S} i_C(t) dt \\\\[0.25em]\n",
    "0 &=& \\left[D T_S \\cdot (-\\frac{V}{R})\\right] + \\left[(D')T_S \\cdot (I - \\frac{V}{R})\\right] \\\\[0.25em]\n",
    "0 &=& -(D+D') T_S \\frac{V}{R} + D' T_S I  \\\\[0.25em]\n",
    "0 &=& D'I -\\frac{V}{R}  \\\\[0.25em]\n",
    "I &=& \\frac{V/R}{D'} && [\\text{Inductor Current }I] \\\\[0.25em]\n",
    "\\end{eqnarray}$\n",
    "\n",
    "<hr>"
   ]
  },
  {
   "cell_type": "markdown",
   "id": "loaded-judgment",
   "metadata": {},
   "source": [
    "Switch $[0<t<DT_s]$\n",
    "\n",
    "$\\begin{eqnarray}\n",
    "0 &=& -V_{batt} +i_L R_{on}+ i_L R_L + v_L  \\\\[0.25em]\n",
    "v_L &=& V_{batt} - i_L R_{on} - i_L R_L  \\\\[0.25em]\n",
    "\\frac{di_L}{dt} &=& \\frac{V_{batt} - i_L R_{on} - i_L R_L}{L} && [i_L \\text{ slope}] \\\\[0.25em]\n",
    "\\end{eqnarray}$\n",
    "\n",
    "Switch $[DT_s<t<T_s]$\n",
    "\n",
    "$\\begin{eqnarray}\n",
    "0 &=& -v_L -i_L R_L -V_D -i_L R_D - v\\\\[0.25em]\n",
    "v_L &=& -(i_L R_L +V_D +i_L R_D + v) \\\\[0.25em]\n",
    "\\frac{di_L}{dt} &=& \\frac{-(i_L R_L +V_D +i_L R_D + v)}{L} && [i_L \\text{ slope}] \\\\[0.25em]\n",
    "\\end{eqnarray}$\n",
    "\n",
    "Total Volt Seconds over 1 period for Inductor Voltage (small ripple approx)\n",
    "\n",
    "$\\begin{eqnarray}\n",
    "<v_L> &=& \\frac{1}{T_S} \\int_{o}^{T_S} v_L(t) dt \\\\[0.25em]\n",
    "0 &=& \\left[D T_S \\cdot (V_{batt} - I R_{on} - I R_L)\\right] + (-1) \\left[D'T_S \\cdot (I R_L +V_D +I R_D + V) \\right] \\\\[0.25em]\n",
    "0 &=& -(D+D') T_S I R_L + D T_S (V_{batt} - I R_{on}) - D'T_S (V_D +I R_D + V)  \\\\[0.25em]\n",
    "0 &=& -I R_L + D (V_{batt} - I R_{on}) - D'(V_D +I R_D + V)  \\\\\n",
    "\\end{eqnarray}$\n",
    "\n",
    "<hr>"
   ]
  },
  {
   "cell_type": "markdown",
   "id": "approximate-strip",
   "metadata": {},
   "source": [
    "$\\begin{eqnarray}\n",
    "V &=& \\frac{1}{D'}\\cdot  \\left(DV_{batt} - D' V_D \\right) \\cdot \\left( \\frac{R (D')^2}{R(D')^2 + R_{on}D + R_L + R_D D'} \\right) \\\\[0.25em]\n",
    "V &=& \\left(\\frac{DV_{batt} - D' V_D}{D'}\\right) \\cdot \\left( \\frac{1}{1 + \\frac{R_{on}D + R_L + R_D D'}{R (D')^2}} \\right)\n",
    "\\end{eqnarray}$\n",
    "\n",
    "<hr>"
   ]
  },
  {
   "cell_type": "markdown",
   "id": "monthly-mechanism",
   "metadata": {},
   "source": [
    "$\\begin{eqnarray}\n",
    "\\eta &=& \\frac{P_{out}}{P_{in}} = \\frac{VD' I}{DV_{batt} I} \\\\[0.25em]\n",
    "\\eta &=& V \\cdot \\frac{D' }{DV_{batt} } \\\\[0.25em]\n",
    "\\eta &=& \\left(\\frac{DV_{batt} - D' V_D}{D'}\\right) \\cdot \\left( \\frac{1}{1 + \\frac{R_{on}D + R_L + R_D D'}{R (D')^2}} \\right) \\cdot \\frac{D' }{DV_{batt} } \\\\[0.25em]\n",
    "\\eta &=& \\left(\\frac{DV_{batt} - D' V_D}{DV_{batt}}\\right) \\cdot \\left( \\frac{1}{1 + \\frac{R_{on}D + R_L + R_D D'}{R (D')^2}} \\right) \\\\[0.25em]\n",
    "\\eta &=& \\left(1 - \\frac{D' V_D}{DV_{batt}}\\right) \\cdot \\left( \\frac{1}{1 + \\frac{R_{on}D + R_L + R_D D'}{R (D')^2}} \\right) \\\\[0.25em]\n",
    "\\end{eqnarray}$\n",
    "\n",
    "<hr>"
   ]
  },
  {
   "cell_type": "markdown",
   "id": "sustained-elimination",
   "metadata": {},
   "source": [
    "$\\begin{eqnarray}\n",
    "\\eta &=& \\left(1 - \\frac{D' V_D}{DV_{batt}}\\right) \\cdot \\left( \\frac{1}{1 + \\frac{R_{on}D + R_L + R_D D'}{R (D')^2}} \\right) \\\\[0.25em]\n",
    "1 + \\frac{R_{on}D + R_L + R_D D'}{R (D')^2} &=& \\left(1 - \\frac{D' V_D}{DV_{batt}}\\right) \\cdot \\left( \\frac{1}{\\eta} \\right) \\\\[0.25em]\n",
    "\\frac{R_{on}D + R_L + R_D D'}{R (D')^2} &=& \\left( \\frac{1}{\\eta} \\right) \\cdot \\left(1 - \\frac{D' V_D}{DV_{batt}}\\right)-1 \\\\[0.25em]\n",
    "R_{on}D + R_L + R_D D' &=& \\left[ \\left( \\frac{1}{\\eta} \\right) \\cdot \\left(1 - \\frac{D' V_D}{DV_{batt}}\\right)-1 \\right]R (D')^2 \\\\[0.25em]\n",
    "R_L &=& \\left[ \\left( \\frac{1}{\\eta} \\right) \\cdot \\left(1 - \\frac{D' V_D}{DV_{batt}}\\right)-1 \\right]R (D')^2 -R_{on}D - R_D D'\\\\[0.25em]\n",
    "\\end{eqnarray}$\n",
    "\n",
    "<hr>"
   ]
  },
  {
   "cell_type": "markdown",
   "id": "concrete-aquarium",
   "metadata": {},
   "source": [
    "**Given:** $R_{on} = 50 m\\Omega$, $V_D = 0.2V$, $3.0V \\leq V_{bat} \\leq 4.2V$, $f_s = 200kHz$\n",
    "\n",
    "<hr>"
   ]
  },
  {
   "cell_type": "code",
   "execution_count": 4,
   "id": "hundred-present",
   "metadata": {},
   "outputs": [
    {
     "name": "stdout",
     "output_type": "stream",
     "text": [
      "R_L = 0.052 Ohms\n"
     ]
    }
   ],
   "source": [
    "Vbatt = 4\n",
    "eta = 0.8\n",
    "Ron = 0.05\n",
    "VD = 0.2\n",
    "D = 0.5\n",
    "D_p = 1-D\n",
    "R = 3.3/2\n",
    "R_L = ((1/eta)*(1-(D_p*VD)/(D*Vbatt))-1)*R*D_p**2 - Ron*D\n",
    "print(f'R_L = {round(R_L,3)} Ohms')"
   ]
  },
  {
   "cell_type": "code",
   "execution_count": null,
   "id": "otherwise-conservation",
   "metadata": {},
   "outputs": [],
   "source": []
  }
 ],
 "metadata": {
  "kernelspec": {
   "display_name": "Python 3",
   "language": "python",
   "name": "python3"
  },
  "language_info": {
   "codemirror_mode": {
    "name": "ipython",
    "version": 3
   },
   "file_extension": ".py",
   "mimetype": "text/x-python",
   "name": "python",
   "nbconvert_exporter": "python",
   "pygments_lexer": "ipython3",
   "version": "3.7.9"
  },
  "varInspector": {
   "cols": {
    "lenName": 16,
    "lenType": 16,
    "lenVar": 40
   },
   "kernels_config": {
    "python": {
     "delete_cmd_postfix": "",
     "delete_cmd_prefix": "del ",
     "library": "var_list.py",
     "varRefreshCmd": "print(var_dic_list())"
    },
    "r": {
     "delete_cmd_postfix": ") ",
     "delete_cmd_prefix": "rm(",
     "library": "var_list.r",
     "varRefreshCmd": "cat(var_dic_list()) "
    }
   },
   "types_to_exclude": [
    "module",
    "function",
    "builtin_function_or_method",
    "instance",
    "_Feature"
   ],
   "window_display": false
  }
 },
 "nbformat": 4,
 "nbformat_minor": 5
}
