{
 "cells": [
  {
   "cell_type": "code",
   "execution_count": 1,
   "id": "psychological-overall",
   "metadata": {},
   "outputs": [],
   "source": [
    "# Imports\n",
    "import os\n",
    "import sys\n",
    "import cmath\n",
    "import math\n",
    "import matplotlib.pyplot as plt\n",
    "import matplotlib\n",
    "import numpy as np\n",
    "import pandas as pd\n",
    "import sympy as sp\n",
    "from sympy.utilities.lambdify import lambdify\n",
    "from scipy import signal\n",
    "%matplotlib inline\n",
    "from IPython.core.interactiveshell import InteractiveShell\n",
    "InteractiveShell.ast_node_interactivity = \"all\"\n",
    "from matplotlib.ticker import LogLocator"
   ]
  },
  {
   "cell_type": "code",
   "execution_count": 2,
   "id": "interior-vacuum",
   "metadata": {},
   "outputs": [],
   "source": [
    "D,D_p,V_g,I_L,R_L,R_on,R_load,V,T_s,Delta_I,L,R_cesr = \\\n",
    "    sp.symbols('D,D_p,V_g,I_L,R_L,R_on,R_load,V,T_s,Delta_I,L,R_cesr')\n",
    "I_L = V/(D_p*R_load)\n",
    "M = V/V_g\n",
    "L = (D*T_s)/(2*Delta_I)*(V_g -V*(R_L+R_on)/(D_p*R_load))\n",
    "#V = (V_g*D_p*R_load)/(R_L+R_on+D_p**2*R_load)"
   ]
  },
  {
   "cell_type": "code",
   "execution_count": 3,
   "id": "caroline-title",
   "metadata": {},
   "outputs": [],
   "source": [
    "circuit = {\n",
    "    T_s: 50*1E3,\n",
    "    V_g: 24,\n",
    "    V: 48,\n",
    "    R_L: 40*1E-3,\n",
    "    R_load: 50,\n",
    "    R_cesr: 0.1,\n",
    "    Delta_I: 0.15*I_L\n",
    "}"
   ]
  },
  {
   "cell_type": "code",
   "execution_count": 4,
   "id": "tough-clearance",
   "metadata": {},
   "outputs": [],
   "source": [
    "R_DS,t_on,t_rise,t_off,t_fall = sp.symbols('R_DS,t_on,t_rise,t_off,t_fall')\n",
    "\n",
    "CSD19535KCS = {\n",
    "    R_DS: 3.4*1E-3, \n",
    "    t_on: 32*1E-9,\n",
    "    t_rise: 15*1E-9,\n",
    "    t_off: 60*1E-9,\n",
    "    t_fall: 5*1E-9\n",
    "}\n",
    "\n",
    "IRFB4615PBF = {\n",
    "    R_DS: 32*1E-3, \n",
    "    t_on: 15*1E-9,\n",
    "    t_rise: 35*1E-9,\n",
    "    t_off: 25*1E-9,\n",
    "    t_fall: 20*1E-9\n",
    "}"
   ]
  },
  {
   "cell_type": "code",
   "execution_count": 5,
   "id": "gorgeous-equipment",
   "metadata": {},
   "outputs": [],
   "source": [
    "#H = sp.Matrix([])\n",
    "#H = H.subs(components)\n",
    "#eq = sp.solve(H)"
   ]
  },
  {
   "cell_type": "markdown",
   "id": "verified-print",
   "metadata": {},
   "source": [
    "### CSD19535KCS"
   ]
  },
  {
   "cell_type": "code",
   "execution_count": 6,
   "id": "appreciated-florence",
   "metadata": {},
   "outputs": [
    {
     "data": {
      "text/plain": [
       "[(R_load*V_g - sqrt(R_load*(-4*R_L*V**2 + R_load*V_g**2 - 4*R_on*V**2)))/(2*R_load*V),\n",
       " (R_load*V_g + sqrt(R_load*(-4*R_L*V**2 + R_load*V_g**2 - 4*R_on*V**2)))/(2*R_load*V)]"
      ]
     },
     "execution_count": 6,
     "metadata": {},
     "output_type": "execute_result"
    },
    {
     "name": "stdout",
     "output_type": "stream",
     "text": [
      "D values: [0.9982579303869265, 0.5017420696130735]\n"
     ]
    }
   ],
   "source": [
    "# Find D' from output voltage equation\n",
    "eqn=sp.Eq(V, (V_g*D_p*R_load)/(R_L+R_on+D_p**2*R_load))\n",
    "sp.solve(eqn,D_p)\n",
    "H = sp.Matrix(sp.solve(eqn,D_p))\n",
    "\n",
    "# Substitute values from circuit and R_on from switch\n",
    "circuit['R_on']= 3.4*1E-3\n",
    "H = H.subs(circuit)\n",
    "\n",
    "# Convert D' to D\n",
    "out = 1-np.array(H).astype(np.float64)\n",
    "print(f'D values: {list(out[0])+list(out[1])}')"
   ]
  },
  {
   "cell_type": "markdown",
   "id": "level-calculation",
   "metadata": {},
   "source": [
    "### IRFB4615PBF"
   ]
  },
  {
   "cell_type": "code",
   "execution_count": 8,
   "id": "acting-mining",
   "metadata": {},
   "outputs": [
    {
     "data": {
      "text/plain": [
       "[(R_load*V_g - sqrt(R_load*(-4*R_L*V**2 + R_load*V_g**2 - 4*R_on*V**2)))/(2*R_load*V),\n",
       " (R_load*V_g + sqrt(R_load*(-4*R_L*V**2 + R_load*V_g**2 - 4*R_on*V**2)))/(2*R_load*V)]"
      ]
     },
     "execution_count": 8,
     "metadata": {},
     "output_type": "execute_result"
    },
    {
     "name": "stdout",
     "output_type": "stream",
     "text": [
      "D values: [0.9971032172999778, 0.5028967827000222]\n"
     ]
    }
   ],
   "source": [
    "# Find D' from output voltage equation\n",
    "eqn=sp.Eq(V, (V_g*D_p*R_load)/(R_L+R_on+D_p**2*R_load))\n",
    "sp.solve(eqn,D_p)\n",
    "H = sp.Matrix(sp.solve(eqn,D_p))\n",
    "\n",
    "# Substitute values from circuit and R_on from switch\n",
    "circuit['R_on']= 32*1E-3\n",
    "H = H.subs(circuit)\n",
    "\n",
    "# Convert D' to D\n",
    "out = 1-np.array(H).astype(np.float64)\n",
    "print(f'D values: {list(out[0])+list(out[1])}')"
   ]
  },
  {
   "cell_type": "code",
   "execution_count": null,
   "id": "finite-conference",
   "metadata": {},
   "outputs": [],
   "source": []
  }
 ],
 "metadata": {
  "kernelspec": {
   "display_name": "Python 3",
   "language": "python",
   "name": "python3"
  },
  "language_info": {
   "codemirror_mode": {
    "name": "ipython",
    "version": 3
   },
   "file_extension": ".py",
   "mimetype": "text/x-python",
   "name": "python",
   "nbconvert_exporter": "python",
   "pygments_lexer": "ipython3",
   "version": "3.7.9"
  },
  "varInspector": {
   "cols": {
    "lenName": 16,
    "lenType": 16,
    "lenVar": 40
   },
   "kernels_config": {
    "python": {
     "delete_cmd_postfix": "",
     "delete_cmd_prefix": "del ",
     "library": "var_list.py",
     "varRefreshCmd": "print(var_dic_list())"
    },
    "r": {
     "delete_cmd_postfix": ") ",
     "delete_cmd_prefix": "rm(",
     "library": "var_list.r",
     "varRefreshCmd": "cat(var_dic_list()) "
    }
   },
   "types_to_exclude": [
    "module",
    "function",
    "builtin_function_or_method",
    "instance",
    "_Feature"
   ],
   "window_display": false
  }
 },
 "nbformat": 4,
 "nbformat_minor": 5
}
